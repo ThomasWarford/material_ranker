{
 "cells": [
  {
   "cell_type": "code",
   "execution_count": 7,
   "id": "c52b4d72-9c56-4668-b51e-7ae445625a8f",
   "metadata": {},
   "outputs": [],
   "source": [
    "import requests\n",
    "from pathlib import Path\n",
    "import arxiv\n",
    "from nltk import edit_distance"
   ]
  },
  {
   "cell_type": "code",
   "execution_count": 2,
   "id": "aed48ee6-1058-40de-96da-10ddbd4bbbb3",
   "metadata": {},
   "outputs": [],
   "source": [
    "def download_arxiv_by_id(output_directory:Path, arxiv_id:str):\n",
    "    try:\n",
    "        url = f\"https://arxiv.org/pdf/{arxiv_id}\" \n",
    "        response = requests.get(url)\n",
    "        \n",
    "        if response.status_code == 200:\n",
    "            # Save PDF to file\n",
    "            with open(output_directory/f\"{arxiv_id}.pdf\", 'wb') as f:\n",
    "                f.write(response.content)\n",
    "            print(f\"Paper '{arxiv_id}' downloaded successfully.\")\n",
    "        else:\n",
    "            print(f\"Failed to download paper '{arxiv_id}': HTTP status code {response.status_code}\")\n",
    "            \n",
    "    except Exception as e:\n",
    "        print(f\"Failed to download paper from {url}: {str(e)}\")"
   ]
  },
  {
   "cell_type": "code",
   "execution_count": 8,
   "id": "db0d1c2f-40c0-4331-8ec8-382b9247552b",
   "metadata": {},
   "outputs": [],
   "source": [
    "def download_arxiv_by_title(output_directory:Path, paper_title:str):\n",
    "    client = arxiv.Client()\n",
    "\n",
    "    search = arxiv.Search(\n",
    "        query = paper_title,\n",
    "        max_results = 1,\n",
    "        sort_by = arxiv.SortCriterion.Relevance\n",
    "    )\n",
    "\n",
    "    paper = next(arxiv.Client().results(search))\n",
    "\n",
    "    paper.download_pdf(dirpath=output_directory, filename=f\"{paper.get_short_id()}.pdf\")\n",
    "\n",
    "    # use Levenshtein distance to check paper retrieved has same title:\n",
    "    title_match = edit_distance(paper.title, paper_title) < 5\n",
    "    \n",
    "    return title_match "
   ]
  },
  {
   "cell_type": "code",
   "execution_count": 4,
   "id": "0ecd0a11-af2b-474f-966d-0dc19e0c1aec",
   "metadata": {},
   "outputs": [],
   "source": [
    "def download_arxiv_by_vector_query(output_directory:Path, query):\n",
    "    \"\"\"TODO: IMPLEMENT\"\"\""
   ]
  },
  {
   "cell_type": "code",
   "execution_count": 27,
   "id": "cfb8cdb5-04e0-41c6-b38c-130cd5dd183c",
   "metadata": {},
   "outputs": [
    {
     "name": "stdout",
     "output_type": "stream",
     "text": [
      "Paper '1605.08386v1' downloaded successfully.\n"
     ]
    }
   ],
   "source": [
    "download_arxiv(Path(\".\"), \"1605.08386v1\")"
   ]
  },
  {
   "cell_type": "code",
   "execution_count": 11,
   "id": "dd9accbc-a316-4ef0-9fef-cba8db7c1804",
   "metadata": {},
   "outputs": [
    {
     "data": {
      "text/plain": [
       "True"
      ]
     },
     "execution_count": 11,
     "metadata": {},
     "output_type": "execute_result"
    }
   ],
   "source": [
    "download_arxiv_by_title(Path(\".\"), \"Classification of flat bands according to the band-crossing singularity of Bloch wavefunctions\")"
   ]
  }
 ],
 "metadata": {
  "kernelspec": {
   "display_name": "Python 3 (ipykernel)",
   "language": "python",
   "name": "python3"
  },
  "language_info": {
   "codemirror_mode": {
    "name": "ipython",
    "version": 3
   },
   "file_extension": ".py",
   "mimetype": "text/x-python",
   "name": "python",
   "nbconvert_exporter": "python",
   "pygments_lexer": "ipython3",
   "version": "3.12.2"
  }
 },
 "nbformat": 4,
 "nbformat_minor": 5
}
