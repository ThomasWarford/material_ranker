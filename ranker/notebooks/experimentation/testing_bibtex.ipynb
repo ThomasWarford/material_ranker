{
 "cells": [
  {
   "cell_type": "code",
   "execution_count": 11,
   "id": "2bdecfbd-c687-48c7-ad6b-61b1a7f62686",
   "metadata": {},
   "outputs": [],
   "source": [
    "from bibtexparser import parse_string\n",
    "\n",
    "import sys\n",
    "sys.path.append(\"/notebooks/src\")\n",
    "\n",
    "from key import API_KEY"
   ]
  },
  {
   "cell_type": "code",
   "execution_count": null,
   "id": "6be220e3-6a63-4daa-9f66-0d5bf3bace1e",
   "metadata": {},
   "outputs": [],
   "source": []
  },
  {
   "cell_type": "code",
   "execution_count": 12,
   "id": "a29b3271-10cb-4564-aefd-0b9481319233",
   "metadata": {},
   "outputs": [],
   "source": [
    "a = parse_string('@article{Jain2013,\\nauthor = {Jain, Anubhav and Ong, Shyue Ping and Hautier, Geoffroy and Chen, Wei and Richards, William Davidson and Dacek, Stephen and Cholia, Shreyas and Gunter, Dan and Skinner, David and Ceder, Gerbrand and Persson, Kristin a.},\\ndoi = {10.1063/1.4812323},\\nissn = {2166532X},\\njournal = {APL Materials},\\nnumber = {1},\\npages = {011002},\\ntitle = {{The Materials Project: A materials genome approach to accelerating materials innovation}},\\nurl = {http://link.aip.org/link/AMPADS/v1/i1/p011002/s1\\\\&Agg=doi},\\nvolume = {1},\\nyear = {2013}\\n}\\n\\n@misc{MaterialsProject,\\ntitle = {{Materials Project}},\\nurl = {http://www.materialsproject.org}\\n}')"
   ]
  },
  {
   "cell_type": "code",
   "execution_count": 13,
   "id": "036f2b73-d01a-4159-91ec-09b79cd7463d",
   "metadata": {},
   "outputs": [
    {
     "data": {
      "text/plain": [
       "'{The Materials Project: A materials genome approach to accelerating materials innovation}'"
      ]
     },
     "execution_count": 13,
     "metadata": {},
     "output_type": "execute_result"
    }
   ],
   "source": [
    "a.blocks[0][\"title\"]"
   ]
  },
  {
   "cell_type": "code",
   "execution_count": 14,
   "id": "1771900f-1a8c-4aab-810b-735d59e37c21",
   "metadata": {},
   "outputs": [],
   "source": [
    "import numpy as np\n",
    "from mp_api.client import MPRester"
   ]
  },
  {
   "cell_type": "code",
   "execution_count": 15,
   "id": "09646269-daa6-4700-8509-cfd5765ef9cc",
   "metadata": {},
   "outputs": [
    {
     "data": {
      "application/vnd.jupyter.widget-view+json": {
       "model_id": "58ab50a524b34861a2058e15dc82ebcd",
       "version_major": 2,
       "version_minor": 0
      },
      "text/plain": [
       "Retrieving ProvenanceDoc documents: 0it [00:00, ?it/s]"
      ]
     },
     "metadata": {},
     "output_type": "display_data"
    },
    {
     "name": "stdout",
     "output_type": "stream",
     "text": [
      "mp-12446\n"
     ]
    },
    {
     "ename": "NameError",
     "evalue": "name 'bibtexs' is not defined",
     "output_type": "error",
     "traceback": [
      "\u001b[0;31m---------------------------------------------------------------------------\u001b[0m",
      "\u001b[0;31mNameError\u001b[0m                                 Traceback (most recent call last)",
      "Input \u001b[0;32mIn [15]\u001b[0m, in \u001b[0;36m<cell line: 11>\u001b[0;34m()\u001b[0m\n\u001b[1;32m      9\u001b[0m         \u001b[38;5;28;01mpass\u001b[39;00m\n\u001b[1;32m     10\u001b[0m \u001b[38;5;28mprint\u001b[39m(material_id)\n\u001b[0;32m---> 11\u001b[0m \u001b[38;5;28mprint\u001b[39m(\u001b[43mbibtexs\u001b[49m)\n",
      "\u001b[0;31mNameError\u001b[0m: name 'bibtexs' is not defined"
     ]
    }
   ],
   "source": [
    "material_id = f\"mp-{np.random.randint(30000)}\"\n",
    "\n",
    "with MPRester(API_KEY) as mpr:\n",
    "\n",
    "    docs = mpr.materials.provenance.search(fields=\"references\", material_ids=material_id)\n",
    "    try:\n",
    "        bibtexs = docs[0].references\n",
    "    except:\n",
    "        pass\n",
    "print(material_id)\n",
    "print(bibtexs)"
   ]
  },
  {
   "cell_type": "code",
   "execution_count": 16,
   "id": "66ad93ab-98ec-4766-9f77-fb686f27100d",
   "metadata": {},
   "outputs": [],
   "source": [
    "def get_titles_from_mp(material_ids):\n",
    "    with MPRester(API_KEY) as mpr:\n",
    "        docs = mpr.materials.provenance.search(fields=[\"material_id\", \"references\"], material_ids=material_ids)\n",
    "\n",
    "    title_dict = {}\n",
    "    title_ignored_dict = {}\n",
    "    \n",
    "    for material in docs:\n",
    "        titles = []\n",
    "        titles_ignored = []\n",
    "\n",
    "        for reference in material.references:\n",
    "            parsed = parse_string(reference)\n",
    "            title = parsed.blocks[0][\"title\"]\n",
    "\n",
    "            if \"materials project\" in title.lower():\n",
    "                titles_ignored.append(title)\n",
    "            else:\n",
    "                titles.append(title)\n",
    "\n",
    "\n",
    "\n",
    "        \n",
    "        title_dict[material.material_id] = titles\n",
    "        title_ignored_dict[material.material_id] = titles_ignored\n",
    "\n",
    "    return title_dict, title_ignored_dict"
   ]
  },
  {
   "cell_type": "code",
   "execution_count": 17,
   "id": "08bfda46-8a76-4ead-993d-1008a9c1f68c",
   "metadata": {},
   "outputs": [
    {
     "name": "stdout",
     "output_type": "stream",
     "text": [
      "mp-25007 mp-6112\n"
     ]
    },
    {
     "data": {
      "application/vnd.jupyter.widget-view+json": {
       "model_id": "f54c587f06ea402487c54d1af8e5a292",
       "version_major": 2,
       "version_minor": 0
      },
      "text/plain": [
       "Retrieving ProvenanceDoc documents:   0%|          | 0/1 [00:00<?, ?it/s]"
      ]
     },
     "metadata": {},
     "output_type": "display_data"
    },
    {
     "data": {
      "text/plain": [
       "({MPID(mp-6112): ['Crystal structure of sodium potassium antimonide triantimonidogallate, K6 Na3 Sb (Ga Sb3)']},\n",
       " {MPID(mp-6112): ['{The Materials Project: A materials genome approach to accelerating materials innovation}']})"
      ]
     },
     "execution_count": 17,
     "metadata": {},
     "output_type": "execute_result"
    }
   ],
   "source": [
    "mp_id = f\"mp-25007\"\n",
    "mp_id_2 = f\"mp-{np.random.randint(0, 30000)}\"\n",
    "print(mp_id, mp_id_2)\n",
    "get_titles_from_mp([mp_id, mp_id_2])"
   ]
  },
  {
   "cell_type": "code",
   "execution_count": null,
   "id": "073bf030-8f3f-4bc9-8fc9-5e0c60209636",
   "metadata": {},
   "outputs": [],
   "source": []
  },
  {
   "cell_type": "code",
   "execution_count": null,
   "id": "cfe3a02c-abf9-4235-8d4e-a33e6a0bb0a4",
   "metadata": {},
   "outputs": [],
   "source": []
  }
 ],
 "metadata": {
  "kernelspec": {
   "display_name": "Python 3 (ipykernel)",
   "language": "python",
   "name": "python3"
  },
  "language_info": {
   "codemirror_mode": {
    "name": "ipython",
    "version": 3
   },
   "file_extension": ".py",
   "mimetype": "text/x-python",
   "name": "python",
   "nbconvert_exporter": "python",
   "pygments_lexer": "ipython3",
   "version": "3.9.13"
  }
 },
 "nbformat": 4,
 "nbformat_minor": 5
}
