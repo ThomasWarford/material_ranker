{
 "cells": [
  {
   "cell_type": "code",
   "execution_count": null,
   "id": "d569b669-7544-4672-8914-413201957aa8",
   "metadata": {},
   "outputs": [],
   "source": [
    "import pandas as pd\n",
    "import sys\n",
    "sys.path.append(\"/notebooks/ranker/src/\")\n",
    "from get_from_mp_api import *"
   ]
  },
  {
   "cell_type": "code",
   "execution_count": null,
   "id": "89c91787-e9c4-4412-84ab-44e001250daa",
   "metadata": {},
   "outputs": [],
   "source": [
    "df = pd.read_csv(\"df_fingerprint_old.csv\", index_col=\"material_id\")\n",
    "df"
   ]
  },
  {
   "cell_type": "code",
   "execution_count": null,
   "id": "d5ca00fd-9e15-4916-b646-308b05faeb6b",
   "metadata": {},
   "outputs": [],
   "source": [
    "space_group_symbol, space_group_number, crystal_system, point_group = get_structure_info(df.index.tolist())"
   ]
  },
  {
   "cell_type": "code",
   "execution_count": null,
   "id": "5e23077c-b34c-4699-a940-cffefbab4417",
   "metadata": {},
   "outputs": [],
   "source": [
    "df[\"space_group_symbol\"] = space_group_symbol\n",
    "df[\"space_group_number\"] = space_group_number\n",
    "df[\"crystal_system\"] = crystal_system\n",
    "df[\"point_group\"] = point_group\n",
    "\n",
    "df.to_csv(\"df_fingerprint.csv\")"
   ]
  }
 ],
 "metadata": {
  "kernelspec": {
   "display_name": "Python 3 (ipykernel)",
   "language": "python",
   "name": "python3"
  },
  "language_info": {
   "codemirror_mode": {
    "name": "ipython",
    "version": 3
   },
   "file_extension": ".py",
   "mimetype": "text/x-python",
   "name": "python",
   "nbconvert_exporter": "python",
   "pygments_lexer": "ipython3",
   "version": "3.9.13"
  }
 },
 "nbformat": 4,
 "nbformat_minor": 5
}
