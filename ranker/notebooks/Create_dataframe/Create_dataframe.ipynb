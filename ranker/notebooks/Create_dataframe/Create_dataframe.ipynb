{
 "cells": [
  {
   "cell_type": "code",
   "execution_count": 1,
   "id": "3b9c0adb-4ef9-4be3-80c8-9b120922142b",
   "metadata": {},
   "outputs": [
    {
     "name": "stdout",
     "output_type": "stream",
     "text": [
      "\u001b[31mERROR: pip's dependency resolver does not currently take into account all the packages that are installed. This behaviour is the source of the following dependency conflicts.\n",
      "thinc 8.1.0 requires pydantic!=1.8,!=1.8.1,<1.10.0,>=1.7.4, but you have pydantic 2.6.4 which is incompatible.\n",
      "spacy 3.4.0 requires pydantic!=1.8,!=1.8.1,<1.10.0,>=1.7.4, but you have pydantic 2.6.4 which is incompatible.\n",
      "gradient-utils 0.5.0 requires pymongo<4.0.0,>=3.11.0, but you have pymongo 4.6.2 which is incompatible.\u001b[0m\u001b[31m\n",
      "\u001b[0m\u001b[33mWARNING: Running pip as the 'root' user can result in broken permissions and conflicting behaviour with the system package manager. It is recommended to use a virtual environment instead: https://pip.pypa.io/warnings/venv\u001b[0m\u001b[33m\n",
      "\u001b[0m\u001b[33mWARNING: Running pip as the 'root' user can result in broken permissions and conflicting behaviour with the system package manager. It is recommended to use a virtual environment instead: https://pip.pypa.io/warnings/venv\u001b[0m\u001b[33m\n",
      "\u001b[0m"
     ]
    }
   ],
   "source": [
    "!pip install mp_api -q\n",
    "!pip install --pre bibtexparser -q"
   ]
  },
  {
   "cell_type": "code",
   "execution_count": 1,
   "id": "098b078b-e27b-4d89-bfb0-4e00cf3ffbd4",
   "metadata": {},
   "outputs": [],
   "source": [
    "import pandas as pd\n",
    "import numpy as np\n",
    "\n",
    "import sys\n",
    "sys.path.append('/notebooks/ranker/src/')\n",
    "\n",
    "from get_from_mp_api import *"
   ]
  },
  {
   "cell_type": "markdown",
   "id": "79095f82-7df1-4b7a-87a9-340d4a3577fe",
   "metadata": {},
   "source": [
    "# Start from read-in point below, just above SC section "
   ]
  },
  {
   "cell_type": "markdown",
   "id": "51ecd1f7-206a-4dd4-a942-01cacf3d381b",
   "metadata": {},
   "source": [
    "# Read in all materials and take only flat ones"
   ]
  },
  {
   "cell_type": "code",
   "execution_count": null,
   "id": "8ff9094e-2bd1-4713-a2c3-d937a331c8ff",
   "metadata": {},
   "outputs": [],
   "source": [
    "df = pd.read_csv(\"csv_data/material_flatness_score_data/Compound_flatness_score_segments.csv\")"
   ]
  },
  {
   "cell_type": "code",
   "execution_count": null,
   "id": "715312bf-3361-4f83-bade-3d15a608f497",
   "metadata": {},
   "outputs": [],
   "source": [
    "df.columns"
   ]
  },
  {
   "cell_type": "code",
   "execution_count": null,
   "id": "c2dd0d0b-7cfe-4cec-b3ee-2c58ff55027d",
   "metadata": {
    "tags": []
   },
   "outputs": [],
   "source": [
    "df_slice = df[['MP-ID','Flat/not-flat','Flat segments']]\n",
    "# extract materials with at least one flat band across the whole k-space path chosen\n",
    "df_flat_only = df_slice.loc[df_slice['Flat/not-flat']==True]\n",
    "df_flat_only"
   ]
  },
  {
   "cell_type": "markdown",
   "id": "5122b8c9-5c75-4ee9-81c8-e541d00ead6d",
   "metadata": {},
   "source": [
    "# Add synthNN scores"
   ]
  },
  {
   "cell_type": "code",
   "execution_count": null,
   "id": "9ad3ac84-5b43-4a94-81c2-0fe09b81792e",
   "metadata": {
    "tags": []
   },
   "outputs": [],
   "source": [
    "df_synthNN_scores = pd.read_csv(\"csv_data/SynthNN_final_scores.csv\")\n",
    "df_synthNN_scores"
   ]
  },
  {
   "cell_type": "code",
   "execution_count": null,
   "id": "9b827be7-2f36-48cf-aa33-004f842dc9ef",
   "metadata": {},
   "outputs": [],
   "source": [
    "df_flat_only['formula']= df_synthNN_scores['Formula'].values\n",
    "df_flat_only['synth_score']= df_synthNN_scores['SynthNN_score'].values\n",
    "df_flat_only"
   ]
  },
  {
   "cell_type": "markdown",
   "id": "50788176-cad4-4f04-babb-a78872e23c82",
   "metadata": {},
   "source": [
    "# Add sublattice elements \n",
    "### **Note at this point, we cut out rows from the 33399 array to match the smaller 33251 array which was actually clustered\n",
    "### When adding e.g. CNN_synth scores, we will need to add it above, before this cut is made, so that all rows match up"
   ]
  },
  {
   "cell_type": "code",
   "execution_count": null,
   "id": "b15f3092-1fc9-4e58-801d-c8050b263414",
   "metadata": {},
   "outputs": [],
   "source": [
    "df_sublattices = pd.read_csv(\"csv_data/material_flatness_score_data/Flat_band_sublattices.csv\")\n",
    "df_sublattices.rename(columns={'MP_index': 'MP-ID'}, inplace=True)\n",
    "df_sublattices.drop(columns=['Unnamed: 0'], inplace=True)"
   ]
  },
  {
   "cell_type": "code",
   "execution_count": null,
   "id": "243563b3-deee-47c6-89a3-c4bd9f713120",
   "metadata": {},
   "outputs": [],
   "source": [
    "temp_merged_df = pd.merge(df_flat_only, df_sublattices, on='MP-ID', how='inner')\n",
    "temp_merged_df.rename(columns={'MP-ID': \"material_id\", \"Flat/not-flat\":\"flat\", \"Flat segments\": \"flat_segments\"}, inplace=True)\n",
    "temp_merged_df.set_index(\"material_id\", inplace=True)\n",
    "temp_merged_df.head()"
   ]
  },
  {
   "cell_type": "markdown",
   "id": "a3dc008e-a67e-4dc4-8390-fa30688d675c",
   "metadata": {},
   "source": [
    "# Add materials project information"
   ]
  },
  {
   "cell_type": "code",
   "execution_count": null,
   "id": "ceeb57b3-a032-4ea7-b148-a1c2e61a3aa7",
   "metadata": {
    "tags": []
   },
   "outputs": [],
   "source": [
    "merged_df = temp_merged_df\n",
    "material_ids = merged_df.index.to_list()\n",
    "merged_df[\"paper_titles\"] = np.nan\n",
    "merged_df[\"experimentally_observed\"] = np.nan\n",
    "merged_df[\"band_gap\"] = np.nan\n",
    "\n",
    "\n",
    "\n",
    "titles, titles_rejected = get_titles(material_ids)\n",
    "experimentally_observed = get_experimentally_observed(material_ids)\n",
    "band_gap = get_band_gap(material_ids)\n",
    "\n",
    "\n",
    "merged_df[\"paper_titles\"].update(titles)\n",
    "merged_df[\"experimentally_observed\"].update(experimentally_observed)\n",
    "merged_df[\"band_gap\"].update(band_gap)\n"
   ]
  },
  {
   "cell_type": "code",
   "execution_count": null,
   "id": "a4b90d7a-16a7-4483-ad51-f131c57b30f9",
   "metadata": {},
   "outputs": [],
   "source": [
    "merged_df.to_csv(\"temp_in_case_this_takes_ages.csv\")"
   ]
  },
  {
   "cell_type": "code",
   "execution_count": 3,
   "id": "ef79ede9-fb91-4913-8726-ea9a22c6aaf4",
   "metadata": {
    "tags": []
   },
   "outputs": [
    {
     "data": {
      "text/html": [
       "<div>\n",
       "<style scoped>\n",
       "    .dataframe tbody tr th:only-of-type {\n",
       "        vertical-align: middle;\n",
       "    }\n",
       "\n",
       "    .dataframe tbody tr th {\n",
       "        vertical-align: top;\n",
       "    }\n",
       "\n",
       "    .dataframe thead th {\n",
       "        text-align: right;\n",
       "    }\n",
       "</style>\n",
       "<table border=\"1\" class=\"dataframe\">\n",
       "  <thead>\n",
       "    <tr style=\"text-align: right;\">\n",
       "      <th></th>\n",
       "      <th>flat</th>\n",
       "      <th>flat_segments</th>\n",
       "      <th>formula</th>\n",
       "      <th>synth_score</th>\n",
       "      <th>Cluster_ID</th>\n",
       "      <th>cluster_size</th>\n",
       "      <th>sublattice_element</th>\n",
       "      <th>dbcv_cluster</th>\n",
       "      <th>probabilities</th>\n",
       "      <th>paper_titles</th>\n",
       "      <th>experimentally_observed</th>\n",
       "      <th>band_gap</th>\n",
       "    </tr>\n",
       "    <tr>\n",
       "      <th>material_id</th>\n",
       "      <th></th>\n",
       "      <th></th>\n",
       "      <th></th>\n",
       "      <th></th>\n",
       "      <th></th>\n",
       "      <th></th>\n",
       "      <th></th>\n",
       "      <th></th>\n",
       "      <th></th>\n",
       "      <th></th>\n",
       "      <th></th>\n",
       "      <th></th>\n",
       "    </tr>\n",
       "  </thead>\n",
       "  <tbody>\n",
       "    <tr>\n",
       "      <th>mp-7</th>\n",
       "      <td>True</td>\n",
       "      <td>[4]</td>\n",
       "      <td>S</td>\n",
       "      <td>0.013924</td>\n",
       "      <td>-1</td>\n",
       "      <td>24875</td>\n",
       "      <td>S</td>\n",
       "      <td>0.846820</td>\n",
       "      <td>0.000000</td>\n",
       "      <td>[The lattice of rhombohedral sulfur, The cryst...</td>\n",
       "      <td>True</td>\n",
       "      <td>2.2079</td>\n",
       "    </tr>\n",
       "    <tr>\n",
       "      <th>mp-25</th>\n",
       "      <td>True</td>\n",
       "      <td>[3]</td>\n",
       "      <td>N2</td>\n",
       "      <td>0.127548</td>\n",
       "      <td>63</td>\n",
       "      <td>282</td>\n",
       "      <td>N</td>\n",
       "      <td>0.212178</td>\n",
       "      <td>0.104165</td>\n",
       "      <td>[Electron Diffraction and the Structure of alp...</td>\n",
       "      <td>True</td>\n",
       "      <td>7.3685</td>\n",
       "    </tr>\n",
       "    <tr>\n",
       "      <th>mp-35</th>\n",
       "      <td>True</td>\n",
       "      <td>[1, 2, 3, 4]</td>\n",
       "      <td>Mn</td>\n",
       "      <td>0.007099</td>\n",
       "      <td>-1</td>\n",
       "      <td>24875</td>\n",
       "      <td>Mn</td>\n",
       "      <td>0.846820</td>\n",
       "      <td>0.000000</td>\n",
       "      <td>[Crystal structure of alpha-manganese, Antifer...</td>\n",
       "      <td>True</td>\n",
       "      <td>0.0000</td>\n",
       "    </tr>\n",
       "    <tr>\n",
       "      <th>mp-43</th>\n",
       "      <td>True</td>\n",
       "      <td>[1, 2, 3, 4]</td>\n",
       "      <td>U</td>\n",
       "      <td>0.001247</td>\n",
       "      <td>-1</td>\n",
       "      <td>24875</td>\n",
       "      <td>U</td>\n",
       "      <td>0.846820</td>\n",
       "      <td>0.000000</td>\n",
       "      <td>[The crystal structure of the beta phase of ur...</td>\n",
       "      <td>True</td>\n",
       "      <td>0.0000</td>\n",
       "    </tr>\n",
       "    <tr>\n",
       "      <th>mp-83</th>\n",
       "      <td>True</td>\n",
       "      <td>[3, 4]</td>\n",
       "      <td>S</td>\n",
       "      <td>0.013924</td>\n",
       "      <td>38</td>\n",
       "      <td>22</td>\n",
       "      <td>S</td>\n",
       "      <td>0.468464</td>\n",
       "      <td>0.972129</td>\n",
       "      <td>[X-Ray Structure Analyses of Two Allotropes of...</td>\n",
       "      <td>True</td>\n",
       "      <td>2.5657</td>\n",
       "    </tr>\n",
       "  </tbody>\n",
       "</table>\n",
       "</div>"
      ],
      "text/plain": [
       "             flat flat_segments formula  synth_score  Cluster_ID  \\\n",
       "material_id                                                        \n",
       "mp-7         True           [4]       S     0.013924          -1   \n",
       "mp-25        True           [3]      N2     0.127548          63   \n",
       "mp-35        True  [1, 2, 3, 4]      Mn     0.007099          -1   \n",
       "mp-43        True  [1, 2, 3, 4]       U     0.001247          -1   \n",
       "mp-83        True        [3, 4]       S     0.013924          38   \n",
       "\n",
       "             cluster_size sublattice_element  dbcv_cluster  probabilities  \\\n",
       "material_id                                                                 \n",
       "mp-7                24875                  S      0.846820       0.000000   \n",
       "mp-25                 282                  N      0.212178       0.104165   \n",
       "mp-35               24875                 Mn      0.846820       0.000000   \n",
       "mp-43               24875                  U      0.846820       0.000000   \n",
       "mp-83                  22                  S      0.468464       0.972129   \n",
       "\n",
       "                                                  paper_titles  \\\n",
       "material_id                                                      \n",
       "mp-7         [The lattice of rhombohedral sulfur, The cryst...   \n",
       "mp-25        [Electron Diffraction and the Structure of alp...   \n",
       "mp-35        [Crystal structure of alpha-manganese, Antifer...   \n",
       "mp-43        [The crystal structure of the beta phase of ur...   \n",
       "mp-83        [X-Ray Structure Analyses of Two Allotropes of...   \n",
       "\n",
       "             experimentally_observed  band_gap  \n",
       "material_id                                     \n",
       "mp-7                            True    2.2079  \n",
       "mp-25                           True    7.3685  \n",
       "mp-35                           True    0.0000  \n",
       "mp-43                           True    0.0000  \n",
       "mp-83                           True    2.5657  "
      ]
     },
     "execution_count": 3,
     "metadata": {},
     "output_type": "execute_result"
    }
   ],
   "source": [
    "def convert_to_list(string):\n",
    "    if string.startswith('[') and string.endswith(']'):\n",
    "        return eval(string)\n",
    "    else:\n",
    "        return string\n",
    "\n",
    "main_df = pd.read_csv(\"temp_in_case_this_takes_ages.csv\", converters={'paper_titles': convert_to_list})\n",
    "main_df.set_index(\"material_id\", inplace=True)\n",
    "main_df.head()"
   ]
  },
  {
   "cell_type": "markdown",
   "id": "589bd8d2-dd6b-4d3d-ae0b-4ea8904353c1",
   "metadata": {},
   "source": [
    "# Remove Banned Titles (usually refering to materials project, high-throughput methods, ect.)"
   ]
  },
  {
   "cell_type": "code",
   "execution_count": 4,
   "id": "3578392d-a4b9-4a8d-959d-398f389312ec",
   "metadata": {},
   "outputs": [],
   "source": [
    "banned_words = [\"data base\", \"database\", \"throughput\"]\n",
    "\n",
    "def remove_banned_titles(titles):\n",
    "    allowed_titles = []\n",
    "    for title in titles:\n",
    "        allowed = True\n",
    "        for banned_word in banned_words:\n",
    "            if banned_word in title.lower():\n",
    "                allowed = False\n",
    "                break\n",
    "        if allowed:\n",
    "            allowed_titles.append(title)\n",
    "    return allowed_titles\n",
    "\n",
    "main_df.paper_titles = main_df[\"paper_titles\"].apply(remove_banned_titles)"
   ]
  },
  {
   "cell_type": "markdown",
   "id": "47cb80e4-9091-4e74-bb27-3924adcc4e3f",
   "metadata": {},
   "source": [
    "# Add Synth Scores"
   ]
  },
  {
   "cell_type": "code",
   "execution_count": 5,
   "id": "4a540399-1351-4555-a4df-79e66ca542ac",
   "metadata": {},
   "outputs": [
    {
     "data": {
      "text/plain": [
       "material_id\n",
       "mp-7          0.999939\n",
       "mp-25         0.893845\n",
       "mp-35         0.999977\n",
       "mp-43         1.000000\n",
       "mp-83         0.999928\n",
       "                ...   \n",
       "mp-1443188    0.982184\n",
       "mp-1443279    0.990963\n",
       "mp-1443442    0.992047\n",
       "mp-1445771    0.515956\n",
       "mp-1475733    0.998813\n",
       "Name: synth_score_2, Length: 33251, dtype: float64"
      ]
     },
     "execution_count": 5,
     "metadata": {},
     "output_type": "execute_result"
    }
   ],
   "source": [
    "xie_spp_scores = pd.read_csv(\"/notebooks/ranker/notebooks/Create_dataframe/csv_data/flat_material_sythn_scores.csv\", index_col=\"material_id\")\n",
    "# xie_spp_scores\n",
    "main_df[\"synth_score_2\"] = np.nan\n",
    "main_df[\"synth_score_2\"].update(xie_spp_scores.score)\n",
    "main_df[\"synth_score_2\"]"
   ]
  },
  {
   "cell_type": "code",
   "execution_count": 6,
   "id": "ccfe5a10-3cd6-4493-9f2e-9ba51e28c8d9",
   "metadata": {},
   "outputs": [
    {
     "data": {
      "text/html": [
       "<div>\n",
       "<style scoped>\n",
       "    .dataframe tbody tr th:only-of-type {\n",
       "        vertical-align: middle;\n",
       "    }\n",
       "\n",
       "    .dataframe tbody tr th {\n",
       "        vertical-align: top;\n",
       "    }\n",
       "\n",
       "    .dataframe thead th {\n",
       "        text-align: right;\n",
       "    }\n",
       "</style>\n",
       "<table border=\"1\" class=\"dataframe\">\n",
       "  <thead>\n",
       "    <tr style=\"text-align: right;\">\n",
       "      <th></th>\n",
       "      <th>flat</th>\n",
       "      <th>flat_segments</th>\n",
       "      <th>formula</th>\n",
       "      <th>synth_score</th>\n",
       "      <th>Cluster_ID</th>\n",
       "      <th>cluster_size</th>\n",
       "      <th>sublattice_element</th>\n",
       "      <th>dbcv_cluster</th>\n",
       "      <th>probabilities</th>\n",
       "      <th>paper_titles</th>\n",
       "      <th>experimentally_observed</th>\n",
       "      <th>band_gap</th>\n",
       "      <th>synth_score_2</th>\n",
       "    </tr>\n",
       "    <tr>\n",
       "      <th>material_id</th>\n",
       "      <th></th>\n",
       "      <th></th>\n",
       "      <th></th>\n",
       "      <th></th>\n",
       "      <th></th>\n",
       "      <th></th>\n",
       "      <th></th>\n",
       "      <th></th>\n",
       "      <th></th>\n",
       "      <th></th>\n",
       "      <th></th>\n",
       "      <th></th>\n",
       "      <th></th>\n",
       "    </tr>\n",
       "  </thead>\n",
       "  <tbody>\n",
       "    <tr>\n",
       "      <th>mp-7</th>\n",
       "      <td>True</td>\n",
       "      <td>[4]</td>\n",
       "      <td>S</td>\n",
       "      <td>0.013924</td>\n",
       "      <td>-1</td>\n",
       "      <td>24875</td>\n",
       "      <td>S</td>\n",
       "      <td>0.846820</td>\n",
       "      <td>0.000000</td>\n",
       "      <td>[The lattice of rhombohedral sulfur, The cryst...</td>\n",
       "      <td>True</td>\n",
       "      <td>2.2079</td>\n",
       "      <td>0.999939</td>\n",
       "    </tr>\n",
       "    <tr>\n",
       "      <th>mp-25</th>\n",
       "      <td>True</td>\n",
       "      <td>[3]</td>\n",
       "      <td>N2</td>\n",
       "      <td>0.127548</td>\n",
       "      <td>63</td>\n",
       "      <td>282</td>\n",
       "      <td>N</td>\n",
       "      <td>0.212178</td>\n",
       "      <td>0.104165</td>\n",
       "      <td>[Electron Diffraction and the Structure of alp...</td>\n",
       "      <td>True</td>\n",
       "      <td>7.3685</td>\n",
       "      <td>0.893845</td>\n",
       "    </tr>\n",
       "    <tr>\n",
       "      <th>mp-35</th>\n",
       "      <td>True</td>\n",
       "      <td>[1, 2, 3, 4]</td>\n",
       "      <td>Mn</td>\n",
       "      <td>0.007099</td>\n",
       "      <td>-1</td>\n",
       "      <td>24875</td>\n",
       "      <td>Mn</td>\n",
       "      <td>0.846820</td>\n",
       "      <td>0.000000</td>\n",
       "      <td>[Crystal structure of alpha-manganese, Antifer...</td>\n",
       "      <td>True</td>\n",
       "      <td>0.0000</td>\n",
       "      <td>0.999977</td>\n",
       "    </tr>\n",
       "    <tr>\n",
       "      <th>mp-43</th>\n",
       "      <td>True</td>\n",
       "      <td>[1, 2, 3, 4]</td>\n",
       "      <td>U</td>\n",
       "      <td>0.001247</td>\n",
       "      <td>-1</td>\n",
       "      <td>24875</td>\n",
       "      <td>U</td>\n",
       "      <td>0.846820</td>\n",
       "      <td>0.000000</td>\n",
       "      <td>[The crystal structure of the beta phase of ur...</td>\n",
       "      <td>True</td>\n",
       "      <td>0.0000</td>\n",
       "      <td>1.000000</td>\n",
       "    </tr>\n",
       "    <tr>\n",
       "      <th>mp-83</th>\n",
       "      <td>True</td>\n",
       "      <td>[3, 4]</td>\n",
       "      <td>S</td>\n",
       "      <td>0.013924</td>\n",
       "      <td>38</td>\n",
       "      <td>22</td>\n",
       "      <td>S</td>\n",
       "      <td>0.468464</td>\n",
       "      <td>0.972129</td>\n",
       "      <td>[X-Ray Structure Analyses of Two Allotropes of...</td>\n",
       "      <td>True</td>\n",
       "      <td>2.5657</td>\n",
       "      <td>0.999928</td>\n",
       "    </tr>\n",
       "    <tr>\n",
       "      <th>...</th>\n",
       "      <td>...</td>\n",
       "      <td>...</td>\n",
       "      <td>...</td>\n",
       "      <td>...</td>\n",
       "      <td>...</td>\n",
       "      <td>...</td>\n",
       "      <td>...</td>\n",
       "      <td>...</td>\n",
       "      <td>...</td>\n",
       "      <td>...</td>\n",
       "      <td>...</td>\n",
       "      <td>...</td>\n",
       "      <td>...</td>\n",
       "    </tr>\n",
       "    <tr>\n",
       "      <th>mp-1443188</th>\n",
       "      <td>True</td>\n",
       "      <td>[4]</td>\n",
       "      <td>ZnCuF4</td>\n",
       "      <td>0.574649</td>\n",
       "      <td>-1</td>\n",
       "      <td>24875</td>\n",
       "      <td>Cu</td>\n",
       "      <td>0.846820</td>\n",
       "      <td>0.000000</td>\n",
       "      <td>[]</td>\n",
       "      <td>False</td>\n",
       "      <td>0.6531</td>\n",
       "      <td>0.982184</td>\n",
       "    </tr>\n",
       "    <tr>\n",
       "      <th>mp-1443279</th>\n",
       "      <td>True</td>\n",
       "      <td>[1, 3, 4]</td>\n",
       "      <td>Cr(OF)3</td>\n",
       "      <td>0.035679</td>\n",
       "      <td>-1</td>\n",
       "      <td>24875</td>\n",
       "      <td>F</td>\n",
       "      <td>0.846820</td>\n",
       "      <td>0.000000</td>\n",
       "      <td>[]</td>\n",
       "      <td>False</td>\n",
       "      <td>0.4652</td>\n",
       "      <td>0.990963</td>\n",
       "    </tr>\n",
       "    <tr>\n",
       "      <th>mp-1443442</th>\n",
       "      <td>True</td>\n",
       "      <td>[3, 4]</td>\n",
       "      <td>VF5</td>\n",
       "      <td>0.727455</td>\n",
       "      <td>-1</td>\n",
       "      <td>24875</td>\n",
       "      <td>F</td>\n",
       "      <td>0.846820</td>\n",
       "      <td>0.000000</td>\n",
       "      <td>[]</td>\n",
       "      <td>False</td>\n",
       "      <td>2.5453</td>\n",
       "      <td>0.992047</td>\n",
       "    </tr>\n",
       "    <tr>\n",
       "      <th>mp-1445771</th>\n",
       "      <td>True</td>\n",
       "      <td>[1, 2, 3, 4]</td>\n",
       "      <td>K2P2H2O7</td>\n",
       "      <td>0.974588</td>\n",
       "      <td>-1</td>\n",
       "      <td>24875</td>\n",
       "      <td>O</td>\n",
       "      <td>0.846820</td>\n",
       "      <td>0.000000</td>\n",
       "      <td>[]</td>\n",
       "      <td>False</td>\n",
       "      <td>0.0000</td>\n",
       "      <td>0.515956</td>\n",
       "    </tr>\n",
       "    <tr>\n",
       "      <th>mp-1475733</th>\n",
       "      <td>True</td>\n",
       "      <td>[1, 2, 4]</td>\n",
       "      <td>PdAu2(NCl2)4</td>\n",
       "      <td>0.010389</td>\n",
       "      <td>-1</td>\n",
       "      <td>24875</td>\n",
       "      <td>N</td>\n",
       "      <td>0.846820</td>\n",
       "      <td>0.000000</td>\n",
       "      <td>[]</td>\n",
       "      <td>False</td>\n",
       "      <td>0.0000</td>\n",
       "      <td>0.998813</td>\n",
       "    </tr>\n",
       "  </tbody>\n",
       "</table>\n",
       "<p>33251 rows × 13 columns</p>\n",
       "</div>"
      ],
      "text/plain": [
       "             flat flat_segments       formula  synth_score  Cluster_ID  \\\n",
       "material_id                                                              \n",
       "mp-7         True           [4]             S     0.013924          -1   \n",
       "mp-25        True           [3]            N2     0.127548          63   \n",
       "mp-35        True  [1, 2, 3, 4]            Mn     0.007099          -1   \n",
       "mp-43        True  [1, 2, 3, 4]             U     0.001247          -1   \n",
       "mp-83        True        [3, 4]             S     0.013924          38   \n",
       "...           ...           ...           ...          ...         ...   \n",
       "mp-1443188   True           [4]        ZnCuF4     0.574649          -1   \n",
       "mp-1443279   True     [1, 3, 4]       Cr(OF)3     0.035679          -1   \n",
       "mp-1443442   True        [3, 4]           VF5     0.727455          -1   \n",
       "mp-1445771   True  [1, 2, 3, 4]      K2P2H2O7     0.974588          -1   \n",
       "mp-1475733   True     [1, 2, 4]  PdAu2(NCl2)4     0.010389          -1   \n",
       "\n",
       "             cluster_size sublattice_element  dbcv_cluster  probabilities  \\\n",
       "material_id                                                                 \n",
       "mp-7                24875                  S      0.846820       0.000000   \n",
       "mp-25                 282                  N      0.212178       0.104165   \n",
       "mp-35               24875                 Mn      0.846820       0.000000   \n",
       "mp-43               24875                  U      0.846820       0.000000   \n",
       "mp-83                  22                  S      0.468464       0.972129   \n",
       "...                   ...                ...           ...            ...   \n",
       "mp-1443188          24875                 Cu      0.846820       0.000000   \n",
       "mp-1443279          24875                  F      0.846820       0.000000   \n",
       "mp-1443442          24875                  F      0.846820       0.000000   \n",
       "mp-1445771          24875                  O      0.846820       0.000000   \n",
       "mp-1475733          24875                  N      0.846820       0.000000   \n",
       "\n",
       "                                                  paper_titles  \\\n",
       "material_id                                                      \n",
       "mp-7         [The lattice of rhombohedral sulfur, The cryst...   \n",
       "mp-25        [Electron Diffraction and the Structure of alp...   \n",
       "mp-35        [Crystal structure of alpha-manganese, Antifer...   \n",
       "mp-43        [The crystal structure of the beta phase of ur...   \n",
       "mp-83        [X-Ray Structure Analyses of Two Allotropes of...   \n",
       "...                                                        ...   \n",
       "mp-1443188                                                  []   \n",
       "mp-1443279                                                  []   \n",
       "mp-1443442                                                  []   \n",
       "mp-1445771                                                  []   \n",
       "mp-1475733                                                  []   \n",
       "\n",
       "             experimentally_observed  band_gap  synth_score_2  \n",
       "material_id                                                    \n",
       "mp-7                            True    2.2079       0.999939  \n",
       "mp-25                           True    7.3685       0.893845  \n",
       "mp-35                           True    0.0000       0.999977  \n",
       "mp-43                           True    0.0000       1.000000  \n",
       "mp-83                           True    2.5657       0.999928  \n",
       "...                              ...       ...            ...  \n",
       "mp-1443188                     False    0.6531       0.982184  \n",
       "mp-1443279                     False    0.4652       0.990963  \n",
       "mp-1443442                     False    2.5453       0.992047  \n",
       "mp-1445771                     False    0.0000       0.515956  \n",
       "mp-1475733                     False    0.0000       0.998813  \n",
       "\n",
       "[33251 rows x 13 columns]"
      ]
     },
     "execution_count": 6,
     "metadata": {},
     "output_type": "execute_result"
    }
   ],
   "source": [
    "main_df"
   ]
  },
  {
   "cell_type": "code",
   "execution_count": 7,
   "id": "a0d18fcb-64ec-42be-8adc-997740b9c6c1",
   "metadata": {},
   "outputs": [
    {
     "data": {
      "text/plain": [
       "'N'"
      ]
     },
     "execution_count": 7,
     "metadata": {},
     "output_type": "execute_result"
    }
   ],
   "source": [
    "main_df[\"sublattice_element\"].loc['mp-25']"
   ]
  },
  {
   "cell_type": "markdown",
   "id": "f3225224-a428-45b6-9caa-90574c23bc00",
   "metadata": {},
   "source": [
    "# Add structure information of flat-band sublattice"
   ]
  },
  {
   "cell_type": "code",
   "execution_count": 7,
   "id": "dacd94f6-ee3b-4c6d-940d-f3a293e3a1d3",
   "metadata": {},
   "outputs": [
    {
     "data": {
      "application/vnd.jupyter.widget-view+json": {
       "model_id": "094dc2c13e3147a4bbed0430f964ba1e",
       "version_major": 2,
       "version_minor": 0
      },
      "text/plain": [
       "Retrieving SummaryDoc documents:   0%|          | 0/10000 [00:00<?, ?it/s]"
      ]
     },
     "metadata": {},
     "output_type": "display_data"
    },
    {
     "data": {
      "application/vnd.jupyter.widget-view+json": {
       "model_id": "731a17f3c22b48538f64054149fc0993",
       "version_major": 2,
       "version_minor": 0
      },
      "text/plain": [
       "Retrieving SummaryDoc documents:   0%|          | 0/10000 [00:00<?, ?it/s]"
      ]
     },
     "metadata": {},
     "output_type": "display_data"
    },
    {
     "data": {
      "application/vnd.jupyter.widget-view+json": {
       "model_id": "7eabe2bb3dc041b5ab7e5456f2786a3e",
       "version_major": 2,
       "version_minor": 0
      },
      "text/plain": [
       "Retrieving SummaryDoc documents:   0%|          | 0/10000 [00:00<?, ?it/s]"
      ]
     },
     "metadata": {},
     "output_type": "display_data"
    },
    {
     "data": {
      "application/vnd.jupyter.widget-view+json": {
       "model_id": "24379ba3013a430fab1c3b8cb87489fb",
       "version_major": 2,
       "version_minor": 0
      },
      "text/plain": [
       "Retrieving SummaryDoc documents:   0%|          | 0/3251 [00:00<?, ?it/s]"
      ]
     },
     "metadata": {},
     "output_type": "display_data"
    }
   ],
   "source": [
    "temp_df_2 = main_df\n",
    "material_ids = main_df.index.to_list()\n",
    "sub_elems = main_df[\"sublattice_element\"]\n",
    "temp_df_2[\"sub_lattice_structure\"] = np.nan\n",
    "\n",
    "sub_structs = get_sub_structure(material_ids, sub_elems)\n",
    "\n",
    "temp_df_2[\"sub_lattice_structure\"].update(sub_structs)"
   ]
  },
  {
   "cell_type": "markdown",
   "id": "8027d484-d601-4ad3-ab49-68f26fc59af3",
   "metadata": {},
   "source": [
    "### Save"
   ]
  },
  {
   "cell_type": "code",
   "execution_count": 8,
   "id": "ce0d64a2-7ee4-43a8-a1c1-3217ed81d5b5",
   "metadata": {},
   "outputs": [],
   "source": [
    "temp_df_2.to_csv(\"df_full_flat_mat_info.csv\")"
   ]
  },
  {
   "cell_type": "markdown",
   "id": "fdfd08bf-b884-4202-8988-c0dfc35e280d",
   "metadata": {},
   "source": [
    "# Add charge density grid and scalar field"
   ]
  },
  {
   "cell_type": "code",
   "execution_count": 4,
   "id": "457395a1-b14b-41c4-8ede-badaffc11a81",
   "metadata": {},
   "outputs": [
    {
     "data": {
      "text/html": [
       "<div>\n",
       "<style scoped>\n",
       "    .dataframe tbody tr th:only-of-type {\n",
       "        vertical-align: middle;\n",
       "    }\n",
       "\n",
       "    .dataframe tbody tr th {\n",
       "        vertical-align: top;\n",
       "    }\n",
       "\n",
       "    .dataframe thead th {\n",
       "        text-align: right;\n",
       "    }\n",
       "</style>\n",
       "<table border=\"1\" class=\"dataframe\">\n",
       "  <thead>\n",
       "    <tr style=\"text-align: right;\">\n",
       "      <th></th>\n",
       "      <th>flat</th>\n",
       "      <th>flat_segments</th>\n",
       "      <th>formula</th>\n",
       "      <th>synth_score</th>\n",
       "      <th>Cluster_ID</th>\n",
       "      <th>cluster_size</th>\n",
       "      <th>sublattice_element</th>\n",
       "      <th>dbcv_cluster</th>\n",
       "      <th>probabilities</th>\n",
       "      <th>paper_titles</th>\n",
       "      <th>experimentally_observed</th>\n",
       "      <th>band_gap</th>\n",
       "      <th>synth_score_2</th>\n",
       "      <th>sub_lattice_structure</th>\n",
       "    </tr>\n",
       "    <tr>\n",
       "      <th>material_id</th>\n",
       "      <th></th>\n",
       "      <th></th>\n",
       "      <th></th>\n",
       "      <th></th>\n",
       "      <th></th>\n",
       "      <th></th>\n",
       "      <th></th>\n",
       "      <th></th>\n",
       "      <th></th>\n",
       "      <th></th>\n",
       "      <th></th>\n",
       "      <th></th>\n",
       "      <th></th>\n",
       "      <th></th>\n",
       "    </tr>\n",
       "  </thead>\n",
       "  <tbody>\n",
       "    <tr>\n",
       "      <th>mp-7</th>\n",
       "      <td>True</td>\n",
       "      <td>[4]</td>\n",
       "      <td>S</td>\n",
       "      <td>0.013924</td>\n",
       "      <td>-1</td>\n",
       "      <td>24875</td>\n",
       "      <td>S</td>\n",
       "      <td>0.846820</td>\n",
       "      <td>0.000000</td>\n",
       "      <td>[The lattice of rhombohedral sulfur, The cryst...</td>\n",
       "      <td>True</td>\n",
       "      <td>2.2079</td>\n",
       "      <td>0.999939</td>\n",
       "      <td>{'@module': 'pymatgen.core.structure', '@class...</td>\n",
       "    </tr>\n",
       "    <tr>\n",
       "      <th>mp-25</th>\n",
       "      <td>True</td>\n",
       "      <td>[3]</td>\n",
       "      <td>N2</td>\n",
       "      <td>0.127548</td>\n",
       "      <td>63</td>\n",
       "      <td>282</td>\n",
       "      <td>N</td>\n",
       "      <td>0.212178</td>\n",
       "      <td>0.104165</td>\n",
       "      <td>[Electron Diffraction and the Structure of alp...</td>\n",
       "      <td>True</td>\n",
       "      <td>7.3685</td>\n",
       "      <td>0.893845</td>\n",
       "      <td>{'@module': 'pymatgen.core.structure', '@class...</td>\n",
       "    </tr>\n",
       "    <tr>\n",
       "      <th>mp-35</th>\n",
       "      <td>True</td>\n",
       "      <td>[1, 2, 3, 4]</td>\n",
       "      <td>Mn</td>\n",
       "      <td>0.007099</td>\n",
       "      <td>-1</td>\n",
       "      <td>24875</td>\n",
       "      <td>Mn</td>\n",
       "      <td>0.846820</td>\n",
       "      <td>0.000000</td>\n",
       "      <td>[Crystal structure of alpha-manganese, Antifer...</td>\n",
       "      <td>True</td>\n",
       "      <td>0.0000</td>\n",
       "      <td>0.999977</td>\n",
       "      <td>{'@module': 'pymatgen.core.structure', '@class...</td>\n",
       "    </tr>\n",
       "    <tr>\n",
       "      <th>mp-43</th>\n",
       "      <td>True</td>\n",
       "      <td>[1, 2, 3, 4]</td>\n",
       "      <td>U</td>\n",
       "      <td>0.001247</td>\n",
       "      <td>-1</td>\n",
       "      <td>24875</td>\n",
       "      <td>U</td>\n",
       "      <td>0.846820</td>\n",
       "      <td>0.000000</td>\n",
       "      <td>[The crystal structure of the beta phase of ur...</td>\n",
       "      <td>True</td>\n",
       "      <td>0.0000</td>\n",
       "      <td>1.000000</td>\n",
       "      <td>{'@module': 'pymatgen.core.structure', '@class...</td>\n",
       "    </tr>\n",
       "    <tr>\n",
       "      <th>mp-83</th>\n",
       "      <td>True</td>\n",
       "      <td>[3, 4]</td>\n",
       "      <td>S</td>\n",
       "      <td>0.013924</td>\n",
       "      <td>38</td>\n",
       "      <td>22</td>\n",
       "      <td>S</td>\n",
       "      <td>0.468464</td>\n",
       "      <td>0.972129</td>\n",
       "      <td>[X-Ray Structure Analyses of Two Allotropes of...</td>\n",
       "      <td>True</td>\n",
       "      <td>2.5657</td>\n",
       "      <td>0.999928</td>\n",
       "      <td>{'@module': 'pymatgen.core.structure', '@class...</td>\n",
       "    </tr>\n",
       "  </tbody>\n",
       "</table>\n",
       "</div>"
      ],
      "text/plain": [
       "             flat flat_segments formula  synth_score  Cluster_ID  \\\n",
       "material_id                                                        \n",
       "mp-7         True           [4]       S     0.013924          -1   \n",
       "mp-25        True           [3]      N2     0.127548          63   \n",
       "mp-35        True  [1, 2, 3, 4]      Mn     0.007099          -1   \n",
       "mp-43        True  [1, 2, 3, 4]       U     0.001247          -1   \n",
       "mp-83        True        [3, 4]       S     0.013924          38   \n",
       "\n",
       "             cluster_size sublattice_element  dbcv_cluster  probabilities  \\\n",
       "material_id                                                                 \n",
       "mp-7                24875                  S      0.846820       0.000000   \n",
       "mp-25                 282                  N      0.212178       0.104165   \n",
       "mp-35               24875                 Mn      0.846820       0.000000   \n",
       "mp-43               24875                  U      0.846820       0.000000   \n",
       "mp-83                  22                  S      0.468464       0.972129   \n",
       "\n",
       "                                                  paper_titles  \\\n",
       "material_id                                                      \n",
       "mp-7         [The lattice of rhombohedral sulfur, The cryst...   \n",
       "mp-25        [Electron Diffraction and the Structure of alp...   \n",
       "mp-35        [Crystal structure of alpha-manganese, Antifer...   \n",
       "mp-43        [The crystal structure of the beta phase of ur...   \n",
       "mp-83        [X-Ray Structure Analyses of Two Allotropes of...   \n",
       "\n",
       "             experimentally_observed  band_gap  synth_score_2  \\\n",
       "material_id                                                     \n",
       "mp-7                            True    2.2079       0.999939   \n",
       "mp-25                           True    7.3685       0.893845   \n",
       "mp-35                           True    0.0000       0.999977   \n",
       "mp-43                           True    0.0000       1.000000   \n",
       "mp-83                           True    2.5657       0.999928   \n",
       "\n",
       "                                         sub_lattice_structure  \n",
       "material_id                                                     \n",
       "mp-7         {'@module': 'pymatgen.core.structure', '@class...  \n",
       "mp-25        {'@module': 'pymatgen.core.structure', '@class...  \n",
       "mp-35        {'@module': 'pymatgen.core.structure', '@class...  \n",
       "mp-43        {'@module': 'pymatgen.core.structure', '@class...  \n",
       "mp-83        {'@module': 'pymatgen.core.structure', '@class...  "
      ]
     },
     "execution_count": 4,
     "metadata": {},
     "output_type": "execute_result"
    }
   ],
   "source": [
    "main_df = pd.read_csv(\"df_full_flat_mat_info.csv\", converters={'paper_titles': convert_to_list})\n",
    "main_df.set_index(\"material_id\", inplace=True)\n",
    "main_df.head()"
   ]
  },
  {
   "cell_type": "code",
   "execution_count": null,
   "id": "c8e00723-7316-44c4-8446-c9c998a5d6c9",
   "metadata": {},
   "outputs": [],
   "source": [
    "# Add full structure information of flat-band sublattice"
   ]
  },
  {
   "cell_type": "code",
   "execution_count": 5,
   "id": "256c96cc-c59b-4914-abff-a5d406164d55",
   "metadata": {},
   "outputs": [
    {
     "data": {
      "application/vnd.jupyter.widget-view+json": {
       "model_id": "3bfd9dbbcecf4c2f919094706b88f3d6",
       "version_major": 2,
       "version_minor": 0
      },
      "text/plain": [
       "Retrieving SummaryDoc documents:   0%|          | 0/10000 [00:00<?, ?it/s]"
      ]
     },
     "metadata": {},
     "output_type": "display_data"
    },
    {
     "data": {
      "application/vnd.jupyter.widget-view+json": {
       "model_id": "2e512828f69b432daf037b7e2b134870",
       "version_major": 2,
       "version_minor": 0
      },
      "text/plain": [
       "Retrieving SummaryDoc documents:   0%|          | 0/10000 [00:00<?, ?it/s]"
      ]
     },
     "metadata": {},
     "output_type": "display_data"
    },
    {
     "data": {
      "application/vnd.jupyter.widget-view+json": {
       "model_id": "cb62b14a17e3428790b0eb44ad452b8e",
       "version_major": 2,
       "version_minor": 0
      },
      "text/plain": [
       "Retrieving SummaryDoc documents:   0%|          | 0/10000 [00:00<?, ?it/s]"
      ]
     },
     "metadata": {},
     "output_type": "display_data"
    },
    {
     "data": {
      "application/vnd.jupyter.widget-view+json": {
       "model_id": "1f7bed64f96d41989f199d5bf6a36946",
       "version_major": 2,
       "version_minor": 0
      },
      "text/plain": [
       "Retrieving SummaryDoc documents:   0%|          | 0/3251 [00:00<?, ?it/s]"
      ]
     },
     "metadata": {},
     "output_type": "display_data"
    }
   ],
   "source": [
    "temp_df_3 = main_df\n",
    "material_ids = main_df.index.to_list()\n",
    "temp_df_3[\"lattice_structure\"] = np.nan\n",
    "\n",
    "structs = get_structure(material_ids)\n",
    "\n",
    "temp_df_3[\"lattice_structure\"].update(structs)"
   ]
  },
  {
   "cell_type": "code",
   "execution_count": 6,
   "id": "7d67942c-aea5-43bd-ae30-74143b6c79c3",
   "metadata": {},
   "outputs": [],
   "source": [
    "temp_df_3.to_csv(\"df_full_structure.csv\")"
   ]
  },
  {
   "cell_type": "code",
   "execution_count": null,
   "id": "3e0aa163-125a-4904-b625-9d571a76948d",
   "metadata": {},
   "outputs": [],
   "source": []
  }
 ],
 "metadata": {
  "kernelspec": {
   "display_name": "Python 3 (ipykernel)",
   "language": "python",
   "name": "python3"
  },
  "language_info": {
   "codemirror_mode": {
    "name": "ipython",
    "version": 3
   },
   "file_extension": ".py",
   "mimetype": "text/x-python",
   "name": "python",
   "nbconvert_exporter": "python",
   "pygments_lexer": "ipython3",
   "version": "3.9.13"
  }
 },
 "nbformat": 4,
 "nbformat_minor": 5
}
