{
 "cells": [
  {
   "cell_type": "code",
   "execution_count": 1,
   "id": "a8777159-5827-4a80-b41a-f7fdd82529ed",
   "metadata": {},
   "outputs": [
    {
     "name": "stdout",
     "output_type": "stream",
     "text": [
      "\u001b[33mWARNING: Running pip as the 'root' user can result in broken permissions and conflicting behaviour with the system package manager. It is recommended to use a virtual environment instead: https://pip.pypa.io/warnings/venv\u001b[0m\u001b[33m\n",
      "\u001b[0m"
     ]
    }
   ],
   "source": [
    "!pip install pymatgen -q"
   ]
  },
  {
   "cell_type": "code",
   "execution_count": 2,
   "id": "098b078b-e27b-4d89-bfb0-4e00cf3ffbd4",
   "metadata": {},
   "outputs": [],
   "source": [
    "import pandas as pd\n",
    "import numpy as np\n",
    "import matplotlib.pyplot as plt\n",
    "from ast import literal_eval\n",
    "\n",
    "import sys\n",
    "sys.path.append('/notebooks/ranker/src/')"
   ]
  },
  {
   "cell_type": "markdown",
   "id": "66c3a3de-ca58-4ca6-bbd9-29e0fc94e2fe",
   "metadata": {},
   "source": [
    "# Read in saved df here"
   ]
  },
  {
   "cell_type": "code",
   "execution_count": 3,
   "id": "41ea04d1-0564-4726-a420-09b97f534970",
   "metadata": {
    "tags": []
   },
   "outputs": [
    {
     "data": {
      "text/html": [
       "<div>\n",
       "<style scoped>\n",
       "    .dataframe tbody tr th:only-of-type {\n",
       "        vertical-align: middle;\n",
       "    }\n",
       "\n",
       "    .dataframe tbody tr th {\n",
       "        vertical-align: top;\n",
       "    }\n",
       "\n",
       "    .dataframe thead th {\n",
       "        text-align: right;\n",
       "    }\n",
       "</style>\n",
       "<table border=\"1\" class=\"dataframe\">\n",
       "  <thead>\n",
       "    <tr style=\"text-align: right;\">\n",
       "      <th></th>\n",
       "      <th>flat</th>\n",
       "      <th>flat_segments</th>\n",
       "      <th>formula</th>\n",
       "      <th>synth_score</th>\n",
       "      <th>Cluster_ID</th>\n",
       "      <th>cluster_size</th>\n",
       "      <th>sublattice_element</th>\n",
       "      <th>dbcv_cluster</th>\n",
       "      <th>probabilities</th>\n",
       "      <th>paper_titles</th>\n",
       "      <th>experimentally_observed</th>\n",
       "      <th>band_gap</th>\n",
       "      <th>synth_score_2</th>\n",
       "      <th>sub_lattice_structure</th>\n",
       "    </tr>\n",
       "    <tr>\n",
       "      <th>material_id</th>\n",
       "      <th></th>\n",
       "      <th></th>\n",
       "      <th></th>\n",
       "      <th></th>\n",
       "      <th></th>\n",
       "      <th></th>\n",
       "      <th></th>\n",
       "      <th></th>\n",
       "      <th></th>\n",
       "      <th></th>\n",
       "      <th></th>\n",
       "      <th></th>\n",
       "      <th></th>\n",
       "      <th></th>\n",
       "    </tr>\n",
       "  </thead>\n",
       "  <tbody>\n",
       "    <tr>\n",
       "      <th>mp-7</th>\n",
       "      <td>True</td>\n",
       "      <td>[4]</td>\n",
       "      <td>S</td>\n",
       "      <td>0.013924</td>\n",
       "      <td>-1</td>\n",
       "      <td>24875</td>\n",
       "      <td>S</td>\n",
       "      <td>0.846820</td>\n",
       "      <td>0.000000</td>\n",
       "      <td>[The lattice of rhombohedral sulfur, The cryst...</td>\n",
       "      <td>True</td>\n",
       "      <td>2.2079</td>\n",
       "      <td>0.999939</td>\n",
       "      <td>{'@module': 'pymatgen.core.structure', '@class...</td>\n",
       "    </tr>\n",
       "    <tr>\n",
       "      <th>mp-25</th>\n",
       "      <td>True</td>\n",
       "      <td>[3]</td>\n",
       "      <td>N2</td>\n",
       "      <td>0.127548</td>\n",
       "      <td>63</td>\n",
       "      <td>282</td>\n",
       "      <td>N</td>\n",
       "      <td>0.212178</td>\n",
       "      <td>0.104165</td>\n",
       "      <td>[Electron Diffraction and the Structure of alp...</td>\n",
       "      <td>True</td>\n",
       "      <td>7.3685</td>\n",
       "      <td>0.893845</td>\n",
       "      <td>{'@module': 'pymatgen.core.structure', '@class...</td>\n",
       "    </tr>\n",
       "    <tr>\n",
       "      <th>mp-35</th>\n",
       "      <td>True</td>\n",
       "      <td>[1, 2, 3, 4]</td>\n",
       "      <td>Mn</td>\n",
       "      <td>0.007099</td>\n",
       "      <td>-1</td>\n",
       "      <td>24875</td>\n",
       "      <td>Mn</td>\n",
       "      <td>0.846820</td>\n",
       "      <td>0.000000</td>\n",
       "      <td>[Crystal structure of alpha-manganese, Antifer...</td>\n",
       "      <td>True</td>\n",
       "      <td>0.0000</td>\n",
       "      <td>0.999977</td>\n",
       "      <td>{'@module': 'pymatgen.core.structure', '@class...</td>\n",
       "    </tr>\n",
       "    <tr>\n",
       "      <th>mp-43</th>\n",
       "      <td>True</td>\n",
       "      <td>[1, 2, 3, 4]</td>\n",
       "      <td>U</td>\n",
       "      <td>0.001247</td>\n",
       "      <td>-1</td>\n",
       "      <td>24875</td>\n",
       "      <td>U</td>\n",
       "      <td>0.846820</td>\n",
       "      <td>0.000000</td>\n",
       "      <td>[The crystal structure of the beta phase of ur...</td>\n",
       "      <td>True</td>\n",
       "      <td>0.0000</td>\n",
       "      <td>1.000000</td>\n",
       "      <td>{'@module': 'pymatgen.core.structure', '@class...</td>\n",
       "    </tr>\n",
       "    <tr>\n",
       "      <th>mp-83</th>\n",
       "      <td>True</td>\n",
       "      <td>[3, 4]</td>\n",
       "      <td>S</td>\n",
       "      <td>0.013924</td>\n",
       "      <td>38</td>\n",
       "      <td>22</td>\n",
       "      <td>S</td>\n",
       "      <td>0.468464</td>\n",
       "      <td>0.972129</td>\n",
       "      <td>[X-Ray Structure Analyses of Two Allotropes of...</td>\n",
       "      <td>True</td>\n",
       "      <td>2.5657</td>\n",
       "      <td>0.999928</td>\n",
       "      <td>{'@module': 'pymatgen.core.structure', '@class...</td>\n",
       "    </tr>\n",
       "  </tbody>\n",
       "</table>\n",
       "</div>"
      ],
      "text/plain": [
       "             flat flat_segments formula  synth_score  Cluster_ID  \\\n",
       "material_id                                                        \n",
       "mp-7         True           [4]       S     0.013924          -1   \n",
       "mp-25        True           [3]      N2     0.127548          63   \n",
       "mp-35        True  [1, 2, 3, 4]      Mn     0.007099          -1   \n",
       "mp-43        True  [1, 2, 3, 4]       U     0.001247          -1   \n",
       "mp-83        True        [3, 4]       S     0.013924          38   \n",
       "\n",
       "             cluster_size sublattice_element  dbcv_cluster  probabilities  \\\n",
       "material_id                                                                 \n",
       "mp-7                24875                  S      0.846820       0.000000   \n",
       "mp-25                 282                  N      0.212178       0.104165   \n",
       "mp-35               24875                 Mn      0.846820       0.000000   \n",
       "mp-43               24875                  U      0.846820       0.000000   \n",
       "mp-83                  22                  S      0.468464       0.972129   \n",
       "\n",
       "                                                  paper_titles  \\\n",
       "material_id                                                      \n",
       "mp-7         [The lattice of rhombohedral sulfur, The cryst...   \n",
       "mp-25        [Electron Diffraction and the Structure of alp...   \n",
       "mp-35        [Crystal structure of alpha-manganese, Antifer...   \n",
       "mp-43        [The crystal structure of the beta phase of ur...   \n",
       "mp-83        [X-Ray Structure Analyses of Two Allotropes of...   \n",
       "\n",
       "             experimentally_observed  band_gap  synth_score_2  \\\n",
       "material_id                                                     \n",
       "mp-7                            True    2.2079       0.999939   \n",
       "mp-25                           True    7.3685       0.893845   \n",
       "mp-35                           True    0.0000       0.999977   \n",
       "mp-43                           True    0.0000       1.000000   \n",
       "mp-83                           True    2.5657       0.999928   \n",
       "\n",
       "                                         sub_lattice_structure  \n",
       "material_id                                                     \n",
       "mp-7         {'@module': 'pymatgen.core.structure', '@class...  \n",
       "mp-25        {'@module': 'pymatgen.core.structure', '@class...  \n",
       "mp-35        {'@module': 'pymatgen.core.structure', '@class...  \n",
       "mp-43        {'@module': 'pymatgen.core.structure', '@class...  \n",
       "mp-83        {'@module': 'pymatgen.core.structure', '@class...  "
      ]
     },
     "execution_count": 3,
     "metadata": {},
     "output_type": "execute_result"
    }
   ],
   "source": [
    "main_df = pd.read_csv(\"df_full_flat_mat_info.csv\", converters={'paper_titles': literal_eval, 'flat_segments': literal_eval})\n",
    "main_df.set_index(\"material_id\", inplace=True)\n",
    "main_df.head()"
   ]
  },
  {
   "cell_type": "markdown",
   "id": "3803b951-b7a4-41f4-ad72-617aeb2a6845",
   "metadata": {},
   "source": [
    "# Find approximately matched superconducting structures\n",
    "#### We mark if a material has been matched by the 3DSC paper to (usually additionally doped) entries in the SuperCon database\n",
    "#### Then we count, for each cluster, how many of its members are materials which have been matched "
   ]
  },
  {
   "cell_type": "code",
   "execution_count": 4,
   "id": "cd131fcd-0ca0-4f29-8d63-3a4a4d2a7405",
   "metadata": {
    "tags": []
   },
   "outputs": [
    {
     "data": {
      "text/html": [
       "<div>\n",
       "<style scoped>\n",
       "    .dataframe tbody tr th:only-of-type {\n",
       "        vertical-align: middle;\n",
       "    }\n",
       "\n",
       "    .dataframe tbody tr th {\n",
       "        vertical-align: top;\n",
       "    }\n",
       "\n",
       "    .dataframe thead th {\n",
       "        text-align: right;\n",
       "    }\n",
       "</style>\n",
       "<table border=\"1\" class=\"dataframe\">\n",
       "  <thead>\n",
       "    <tr style=\"text-align: right;\">\n",
       "      <th></th>\n",
       "      <th>SC_formula</th>\n",
       "      <th>tc</th>\n",
       "      <th>SC_doped_from_original</th>\n",
       "    </tr>\n",
       "    <tr>\n",
       "      <th>material_id</th>\n",
       "      <th></th>\n",
       "      <th></th>\n",
       "      <th></th>\n",
       "    </tr>\n",
       "  </thead>\n",
       "  <tbody>\n",
       "    <tr>\n",
       "      <th>mp-978986</th>\n",
       "      <td>Ag0.02Ge2Pd1.98Sr1</td>\n",
       "      <td>2.640000</td>\n",
       "      <td>True</td>\n",
       "    </tr>\n",
       "    <tr>\n",
       "      <th>mp-1883</th>\n",
       "      <td>Ag0.15Sn0.85Te1</td>\n",
       "      <td>2.150000</td>\n",
       "      <td>True</td>\n",
       "    </tr>\n",
       "    <tr>\n",
       "      <th>mp-978986</th>\n",
       "      <td>Ag0.1Ge2Pd1.9Sr1</td>\n",
       "      <td>2.620000</td>\n",
       "      <td>True</td>\n",
       "    </tr>\n",
       "    <tr>\n",
       "      <th>mp-2597</th>\n",
       "      <td>Ag0.1In0.9Te1</td>\n",
       "      <td>1.200000</td>\n",
       "      <td>True</td>\n",
       "    </tr>\n",
       "    <tr>\n",
       "      <th>mp-7275</th>\n",
       "      <td>Ag0.2Ba1Si1.8</td>\n",
       "      <td>3.200000</td>\n",
       "      <td>True</td>\n",
       "    </tr>\n",
       "    <tr>\n",
       "      <th>...</th>\n",
       "      <td>...</td>\n",
       "      <td>...</td>\n",
       "      <td>...</td>\n",
       "    </tr>\n",
       "    <tr>\n",
       "      <th>mp-675</th>\n",
       "      <td>W2Zr1</td>\n",
       "      <td>1.080000</td>\n",
       "      <td>False</td>\n",
       "    </tr>\n",
       "    <tr>\n",
       "      <th>mp-21369</th>\n",
       "      <td>W3O1</td>\n",
       "      <td>1.675000</td>\n",
       "      <td>False</td>\n",
       "    </tr>\n",
       "    <tr>\n",
       "      <th>mp-79</th>\n",
       "      <td>Zn1</td>\n",
       "      <td>0.850800</td>\n",
       "      <td>False</td>\n",
       "    </tr>\n",
       "    <tr>\n",
       "      <th>mp-1401</th>\n",
       "      <td>Zn2Zr1</td>\n",
       "      <td>0.296667</td>\n",
       "      <td>False</td>\n",
       "    </tr>\n",
       "    <tr>\n",
       "      <th>mp-131</th>\n",
       "      <td>Zr1</td>\n",
       "      <td>0.996667</td>\n",
       "      <td>False</td>\n",
       "    </tr>\n",
       "  </tbody>\n",
       "</table>\n",
       "<p>3995 rows × 3 columns</p>\n",
       "</div>"
      ],
      "text/plain": [
       "                     SC_formula        tc  SC_doped_from_original\n",
       "material_id                                                      \n",
       "mp-978986    Ag0.02Ge2Pd1.98Sr1  2.640000                    True\n",
       "mp-1883         Ag0.15Sn0.85Te1  2.150000                    True\n",
       "mp-978986      Ag0.1Ge2Pd1.9Sr1  2.620000                    True\n",
       "mp-2597           Ag0.1In0.9Te1  1.200000                    True\n",
       "mp-7275           Ag0.2Ba1Si1.8  3.200000                    True\n",
       "...                         ...       ...                     ...\n",
       "mp-675                    W2Zr1  1.080000                   False\n",
       "mp-21369                   W3O1  1.675000                   False\n",
       "mp-79                       Zn1  0.850800                   False\n",
       "mp-1401                  Zn2Zr1  0.296667                   False\n",
       "mp-131                      Zr1  0.996667                   False\n",
       "\n",
       "[3995 rows x 3 columns]"
      ]
     },
     "execution_count": 4,
     "metadata": {},
     "output_type": "execute_result"
    }
   ],
   "source": [
    "df_3DSC = pd.read_csv(\"csv_data/Superconductivity_3DSC_MP.csv\", skiprows=1, usecols=['material_id_2', 'synth_doped', 'formula_sc', 'tc'])\n",
    "df_3DSC.rename(columns={'material_id_2': \"material_id\", \"synth_doped\":\"SC_doped_from_original\", \"formula_sc\": \"SC_formula\"}, inplace=True)\n",
    "df_3DSC.set_index(\"material_id\", inplace=True)\n",
    "# remove non-superconductors marked with T_c=0\n",
    "df_3DSC = df_3DSC[df_3DSC['tc'] != 0]\n",
    "#print(len(df_3DSC))\n",
    "df_3DSC"
   ]
  },
  {
   "cell_type": "code",
   "execution_count": 5,
   "id": "d51b3d6a-7a99-4aea-87db-e28aeab37bec",
   "metadata": {},
   "outputs": [
    {
     "name": "stdout",
     "output_type": "stream",
     "text": [
      "1524\n",
      "(array([1522, 1523]),)\n"
     ]
    }
   ],
   "source": [
    "len(np.unique(df_3DSC.index.to_numpy()))\n",
    "np_IDs = df_3DSC.index.to_numpy(dtype=str)\n",
    "print(len(np.unique(np_IDs)))\n",
    "print(np.where(np.char.startswith(np.unique(np_IDs), 'v', start=1)))\n",
    "#print(np.where(np.unique(df_3DSC.index.to_numpy())==\"\")"
   ]
  },
  {
   "cell_type": "markdown",
   "id": "4c5590a5-e1af-47a2-8c81-40de050f3e64",
   "metadata": {},
   "source": [
    "# % of all \"flat-mats\" which are SCs, without any triviality cuts"
   ]
  },
  {
   "cell_type": "code",
   "execution_count": 6,
   "id": "c50a4c84-561d-4ef4-bb8a-2c4f7b68ca1d",
   "metadata": {},
   "outputs": [
    {
     "name": "stdout",
     "output_type": "stream",
     "text": [
      "70451\n",
      "['mp-1' 'mp-2' 'mp-3' ... 'mp-1504314' 'mp-1504391' 'mp-1504764']\n"
     ]
    }
   ],
   "source": [
    "full_ids = pd.read_csv(\"csv_data/full_mp_id_list.csv\")\n",
    "full_ids.set_index(\"Column1\", inplace=True)\n",
    "full_ids_list = full_ids.index.to_numpy()\n",
    "print(len(full_ids_list))\n",
    "print(full_ids_list)"
   ]
  },
  {
   "cell_type": "code",
   "execution_count": 7,
   "id": "319e9e73-fc29-4e39-b848-28bc5d062f4a",
   "metadata": {},
   "outputs": [
    {
     "name": "stdout",
     "output_type": "stream",
     "text": [
      "33251\n",
      "1524\n",
      "Number of flat materials also in 3DSC: 148\n",
      "Number of 'non-flat' mats also in 3DSC: 1113\n",
      "Number of flat mats: 33251\n",
      "These numbers don't add to the total matched in 3DSC (to mat proj) because not all mat project entries have band-structure data which is a requirement to be in our flat/not flat groups here\n"
     ]
    }
   ],
   "source": [
    "print(len(main_df.index.unique()))\n",
    "# Convert arrays to sets\n",
    "#SCs = set(np.unique(df_3DSC[df_3DSC[\"SC_doped_from_original\"]==False].index.to_numpy()))\n",
    "SCs = set(np.unique(df_3DSC.index.to_numpy()))\n",
    "\n",
    "print(len(SCs))\n",
    "flat_mats = set(np.unique(main_df.index.to_numpy()))\n",
    "full_ids = set(full_ids_list)\n",
    "\n",
    "# Find the common elements using intersection\n",
    "common_flat = SCs.intersection(flat_mats)\n",
    "common_non_flat = SCs.intersection(full_ids.difference(flat_mats))\n",
    "flat_check = full_ids.intersection(flat_mats)\n",
    "\n",
    "# Find the number of common elements\n",
    "num_common_elements = len(common_flat)\n",
    "num_common_full = len(common_non_flat)\n",
    "\n",
    "# print outputs\n",
    "print(\"Number of flat materials also in 3DSC:\", num_common_elements)\n",
    "print(\"Number of 'non-flat' mats also in 3DSC:\", num_common_full)\n",
    "print(\"Number of flat mats:\", len(flat_check))\n",
    "print(\"These numbers don't add to the total matched in 3DSC (to mat proj) because not all mat project entries have band-structure data which is a requirement to be in our flat/not flat groups here\")"
   ]
  },
  {
   "cell_type": "markdown",
   "id": "a6f61c5e-f0f2-49ac-b710-b3ecdcbbb70a",
   "metadata": {},
   "source": [
    "# SC %s for \"non-insulating\"(band_Gap<1eV cut applied) materials\n",
    "#### also excluding doped cases"
   ]
  },
  {
   "cell_type": "code",
   "execution_count": 8,
   "id": "daa59a73-638d-487b-8414-7b9c534af5cd",
   "metadata": {},
   "outputs": [
    {
     "name": "stdout",
     "output_type": "stream",
     "text": [
      "143\n",
      "1118\n",
      "% of SC non-triv flat mats: 0.8957093642342625\n",
      "% of SC 'non-flat' or insulating mats: 2.0519032411995743\n",
      "Number of non-triv flat mats: 15965\n",
      "54486\n"
     ]
    }
   ],
   "source": [
    "non_triv_df = main_df[main_df[\"band_gap\"]<=1]\n",
    "\n",
    "# Convert arrays to sets\n",
    "# undoped SCs\n",
    "#SCs = set(np.unique(df_3DSC[df_3DSC[\"SC_doped_from_original\"]==False].index.to_numpy()))\n",
    "SCs = set(np.unique(df_3DSC.index.to_numpy()))\n",
    "# band gap <=1eV flat-mats\n",
    "non_triv_flat_mats = set(np.unique(non_triv_df.index.to_numpy()))\n",
    "# full mat id list\n",
    "full_ids = set(full_ids_list)\n",
    "\n",
    "# insulating + non-flat mat id list\n",
    "triv_plus_non_flat = full_ids.difference(non_triv_flat_mats)\n",
    "\n",
    "# Find the common elements using intersection\n",
    "num_nontriv_flat_SC = len(SCs.intersection(non_triv_flat_mats))\n",
    "num_trivial_or_non_flat_SC = len(SCs.intersection(triv_plus_non_flat))\n",
    "flat_check = full_ids.intersection(flat_mats)\n",
    "\n",
    "# print outputs\n",
    "print(num_nontriv_flat_SC)\n",
    "print(num_trivial_or_non_flat_SC)\n",
    "#print(\"doped SC cases been removed: {0}\".format())\n",
    "print(\"% of SC non-triv flat mats:\", (num_nontriv_flat_SC / len(non_triv_flat_mats))*100)\n",
    "print(\"% of SC 'non-flat' or insulating mats:\", (num_trivial_or_non_flat_SC / len(triv_plus_non_flat))*100)\n",
    "print(\"Number of non-triv flat mats:\", len(non_triv_flat_mats))\n",
    "print(len(triv_plus_non_flat))"
   ]
  },
  {
   "cell_type": "markdown",
   "id": "fc99a518-40b0-4940-9e85-66a0d0e45c11",
   "metadata": {},
   "source": [
    "#### save whether a material is SC matched"
   ]
  },
  {
   "cell_type": "code",
   "execution_count": 9,
   "id": "236f77fd-4014-479a-a667-bdafe2c58c47",
   "metadata": {
    "tags": []
   },
   "outputs": [
    {
     "name": "stdout",
     "output_type": "stream",
     "text": [
      "148\n"
     ]
    }
   ],
   "source": [
    "# Merge the two dataframes to see how many flat-band materials we have, have been matched with SuperCon database\n",
    "df_matched_SCs = pd.merge(main_df, df_3DSC, left_index=True, right_index=True, how='inner')\n",
    "print(len(np.unique(df_matched_SCs.index.to_list())))\n",
    "#df_matched_SCs.head(20)"
   ]
  },
  {
   "cell_type": "code",
   "execution_count": 10,
   "id": "ece1cdbb-6490-420c-9a54-7634a5730e83",
   "metadata": {},
   "outputs": [],
   "source": [
    "main_df[\"matched_to_a_sc\"] = False\n",
    "main_df[\"SC_doped_from_original\"] = \"n/a\"\n",
    "main_df.loc[df_matched_SCs.index, 'matched_to_a_sc'] = True\n",
    "\n",
    "# CHECK THIS WORKS IN ORDER:\n",
    "main_df.loc[df_matched_SCs.index, 'SC_doped_from_original'] = df_matched_SCs['SC_doped_from_original']"
   ]
  },
  {
   "cell_type": "code",
   "execution_count": 11,
   "id": "3593d0f8-489b-4546-9bd0-abb64134c5c9",
   "metadata": {},
   "outputs": [
    {
     "data": {
      "text/plain": [
       "material_id\n",
       "mp-243        False\n",
       "mp-491         True\n",
       "mp-607        False\n",
       "mp-879        False\n",
       "mp-1107       False\n",
       "              ...  \n",
       "mp-1207780    False\n",
       "mp-1216453    False\n",
       "mp-1216639     True\n",
       "mp-1222913     True\n",
       "mp-1225166    False\n",
       "Name: SC_doped_from_original, Length: 148, dtype: object"
      ]
     },
     "execution_count": 11,
     "metadata": {},
     "output_type": "execute_result"
    }
   ],
   "source": [
    "#main_df[\"SC_doped_from_original\"]\n",
    "df_matched = main_df[main_df[\"matched_to_a_sc\"]]\n",
    "df_matched[\"SC_doped_from_original\"]"
   ]
  },
  {
   "cell_type": "markdown",
   "id": "55124143-f41a-4a9b-980e-296589aeb614",
   "metadata": {},
   "source": [
    "# triviality metrics analysis - histograms for band gap and atomic distances (see where SCs fall)"
   ]
  },
  {
   "cell_type": "code",
   "execution_count": 77,
   "id": "075e9810-0d80-48a0-8861-2ef94065e5a2",
   "metadata": {
    "tags": []
   },
   "outputs": [],
   "source": [
    "# from scipy.optimize import curve_fit, fsolve\n",
    "\n",
    "# def cubic_func(x, a, b, c, d):\n",
    "#     return a * x**3 + b * x**2 + c * x + d\n",
    "\n",
    "# def exponential_func(x, a, b, c):\n",
    "#     return a * np.exp(b * x) + c\n",
    "\n",
    "# def intersection(func1, func2, x_guess):\n",
    "#     return fsolve(lambda x: func1(x) - func2(x), x_guess)\n",
    "\n",
    "# def red_chi_squared(observed, expected, error, DoF):\n",
    "#     return np.sum((observed - expected)**2 / error**2) / DoF\n",
    "\n",
    "# def get_selection_cut_histograms_and_power(column, df_var, save, name, log_scale=False, apply_density=False, N_bins=30, ax=None, range_=(0, 1)):\n",
    "#     if not ax:\n",
    "#         fig, ax = plt.subplots()\n",
    "        \n",
    "#     # Plot histogram for all flat-band materials\n",
    "#     hist_all, bins_all, _ = ax.hist(df_var[column].to_list(), bins=N_bins, range=range_, density=apply_density, alpha=0.7, edgecolor='black', linewidth=1.2, label=\"All Flat-Band Materials\", color='skyblue')\n",
    "#     bin_centers_all = (bins_all[:-1] + bins_all[1:]) / 2\n",
    "    \n",
    "#     # Plot histogram for SCs\n",
    "#     df_matched = df_var[df_var[\"matched_to_a_sc\"]]\n",
    "#     hist_all, bins_all, _ = ax.hist(df_matched[column].to_list(), bins=15, range=range_, density=apply_density, alpha=0.7, edgecolor='black', linewidth=1.2, label=\"Matched to a SC\", color='salmon')\n",
    "#     bin_centers_all = (bins_all[:-1] + bins_all[1:]) / 2\n",
    "    \n",
    "# #     # Calculate errors\n",
    "#     errors = np.sqrt(hist_all)\n",
    "    \n",
    "#     # Fit cubic function to the range 0.0 to 0.7\n",
    "#     mask_cubic = (bin_centers_all >= 0.0) & (bin_centers_all <= 0.7)\n",
    "#     popt_cubic, _ = curve_fit(cubic_func, bin_centers_all[mask_cubic], np.log(hist_all[mask_cubic]), sigma=errors[mask_cubic])\n",
    "#     x_fit_cubic = np.linspace(0.0, 0.8, 100)\n",
    "#     y_fit_cubic = np.exp(cubic_func(x_fit_cubic, *popt_cubic))\n",
    "#     ax.plot(x_fit_cubic, y_fit_cubic, label='Cubic Fit (0.0-0.7)', color='green')\n",
    "\n",
    "#     # Calculate chi-squared for cubic fit\n",
    "#     chi_squared_cubic = red_chi_squared(hist_all[mask_cubic], np.exp(cubic_func(bin_centers_all[mask_cubic], *popt_cubic)), \n",
    "#                                     error=errors[mask_cubic], DoF=len(mask_cubic)-4)\n",
    "#     print(f'Reduced Chi-squared (cubic): {chi_squared_cubic:.2f}')\n",
    "    \n",
    "#     # Fit exponential function to the range 0.7 to 1.0 (log scale)\n",
    "#     mask_exponential = (bin_centers_all >= 0.7) & (bin_centers_all <= 0.94)\n",
    "#     popt_exponential, _ = curve_fit(exponential_func, bin_centers_all[mask_exponential], np.log(hist_all[mask_exponential]),\n",
    "#                                     sigma=errors[mask_exponential])\n",
    "#     x_fit_exponential = np.linspace(0.6, 1.0, 100)\n",
    "#     y_fit_exponential = np.exp(exponential_func(x_fit_exponential, *popt_exponential))\n",
    "#     ax.plot(x_fit_exponential, y_fit_exponential, label='Exponential Fit (0.7-0.94)', color='blue')\n",
    "    \n",
    "#     # Calculate chi-squared for exponential fit\n",
    "#     chi_squared_exponential = red_chi_squared(hist_all[mask_exponential], np.exp(exponential_func(bin_centers_all[mask_exponential], *popt_exponential)),\n",
    "#                                           error=errors[mask_exponential], DoF=len(mask_exponential)-3)\n",
    "#     print(f'Reduced Chi-squared (exponential): {chi_squared_exponential:.2f}')\n",
    "    \n",
    "#     # Calculate intersection point of the cubic and exponential fits\n",
    "#     intersection_x = intersection(lambda x: cubic_func(x, *popt_cubic), lambda x: exponential_func(x, *popt_exponential), 0.67)\n",
    "#     intersection_y = np.exp(cubic_func(intersection_x, *popt_cubic))\n",
    "#     print(intersection_x)\n",
    "#     ax.scatter(intersection_x, intersection_y, color='red', marker='x', label=f'Intersection ({intersection_x[0]:.2f}, {intersection_y[0]:.2f})', zorder=100)\n",
    "#     print(f'Intersection point, x: ({intersection_x[0]:.3f})')\n",
    "\n",
    "# #     # print(\"cubic - {0}\".format([*popt_cubic]))\n",
    "# #     # print(\"exp - {0}\".format([*popt_exponential]))\n",
    "# #     # Add error bars\n",
    "# #     #ax.errorbar(bin_centers_all, hist_all, yerr=errors, fmt='none', color='black', capsize=3)\n",
    "    \n",
    "#     ax.set_xlabel(column, fontsize=12)\n",
    "#     ax.set_ylabel(\"Normalised count\", fontsize=12)\n",
    "#     ax.tick_params(axis='both', which='major', labelsize=10)\n",
    "#     ax.grid(True, linestyle='--', alpha=0.7)\n",
    "#     ax.legend(fontsize=10)\n",
    "#     # ax.set_xlabel(\"Average Drop\", fontsize=12)\n",
    "    \n",
    "#     if log_scale:\n",
    "#         ax.set_yscale(\"log\")\n",
    "    \n",
    "#     if save:\n",
    "#         plt.savefig(name, bbox_inches=\"tight\", dpi=500)\n",
    "    \n",
    "#     return ax\n",
    "\n",
    "def cubic_func(x, a, b, c, d):\n",
    "    return a * x**3 + b * x**2 + c * x + d\n",
    "\n",
    "def power_func(x, a, b):\n",
    "    return a * x**b\n",
    "\n",
    "def intersection(func1, func2, x_guess):\n",
    "    return fsolve(lambda x: func1(x) - func2(x), x_guess)\n",
    "\n",
    "def red_chi_squared(observed, expected, error, DoF):\n",
    "    return np.sum((observed - expected)**2 / error**2) / DoF\n",
    "\n",
    "def get_selection_cut_histograms_and_power(column, df_var, save, name, log_scale=False, apply_density=False, N_bins=30, ax=None, range_=(0, 1)):\n",
    "    if not ax:\n",
    "        fig, ax = plt.subplots()\n",
    "        \n",
    "    # Plot histogram for all flat-band materials\n",
    "    hist_all, bins_all, _ = ax.hist(df_var[column].to_list(), bins=N_bins, range=range_, density=apply_density, alpha=0.7, edgecolor='black', linewidth=1.2, label=\"All Flat-Band Materials\", color='skyblue')\n",
    "    bin_centers_all = (bins_all[:-1] + bins_all[1:]) / 2\n",
    "    \n",
    "    hist_matched = hist_all\n",
    "    bin_centers_matched = bin_centers_all\n",
    "    # # Plot histogram for SCs\n",
    "    # df_matched = df_var[df_var[\"matched_to_a_sc\"]]\n",
    "    # hist_matched, bins_matched, _ = ax.hist(df_matched[column].to_list(), bins=15, range=range_, density=apply_density, alpha=0.7, edgecolor='black', linewidth=1.2, label=\"Matched to a SC\", color='salmon')\n",
    "    # bin_centers_matched = (bins_matched[:-1] + bins_matched[1:]) / 2\n",
    "    \n",
    "    # Calculate errors\n",
    "    errors = np.sqrt(hist_matched)\n",
    "    \n",
    "    # Fit cubic function to the range 0.0 to 0.7\n",
    "    mask_cubic = (bin_centers_matched >= 0.0) & (bin_centers_matched <= 0.7)\n",
    "    popt_cubic, _ = curve_fit(cubic_func, bin_centers_matched[mask_cubic], np.log(hist_matched[mask_cubic]), sigma=errors[mask_cubic])\n",
    "    x_fit_cubic = np.linspace(0.0, 0.8, 100)\n",
    "    y_fit_cubic = np.exp(cubic_func(x_fit_cubic, *popt_cubic))\n",
    "    ax.plot(x_fit_cubic, y_fit_cubic, label='Cubic Fit (0.0-0.7)', color='green')\n",
    "\n",
    "    # Calculate chi-squared for cubic fit\n",
    "    chi_squared_cubic = red_chi_squared(hist_matched[mask_cubic], np.exp(cubic_func(bin_centers_matched[mask_cubic], *popt_cubic)), \n",
    "                                    error=errors[mask_cubic], DoF=len(mask_cubic)-4)\n",
    "    print(f'Reduced Chi-squared (cubic): {chi_squared_cubic:.2f}')\n",
    "    \n",
    "    # Fit power function to the range 0.7 to 0.94\n",
    "    mask_power = (bin_centers_matched >= 0.7) & (bin_centers_matched <= 0.94)\n",
    "    popt_power, _ = curve_fit(power_func, bin_centers_matched[mask_power], hist_matched[mask_power], sigma=errors[mask_power])\n",
    "    x_fit_power = np.linspace(0.6, 1.0, 100)\n",
    "    y_fit_power = power_func(x_fit_power, *popt_power)\n",
    "    ax.plot(x_fit_power, y_fit_power, label='Power Fit (0.7-0.94)', color='blue')\n",
    "    \n",
    "    # Calculate chi-squared for power fit\n",
    "    chi_squared_power = red_chi_squared(hist_matched[mask_power], power_func(bin_centers_matched[mask_power], *popt_power),\n",
    "                                          error=errors[mask_power], DoF=len(mask_power)-2)\n",
    "    print(f'Reduced Chi-squared (power): {chi_squared_power:.2f}')\n",
    "    \n",
    "    # Calculate intersection point of the cubic and power fits\n",
    "    intersection_x = intersection(lambda x: cubic_func(x, *popt_cubic), lambda x: power_func(x, *popt_power), 0.67)\n",
    "    intersection_y = np.exp(cubic_func(intersection_x, *popt_cubic))\n",
    "    print(f'Intersection point, x: ({intersection_x[0]:.3f})')\n",
    "\n",
    "    ax.scatter(intersection_x, intersection_y, color='red', marker='x', label=f'Intersection ({intersection_x[0]:.2f}, {intersection_y[0]:.2f})', zorder=100)\n",
    "\n",
    "    ax.set_xlabel(column, fontsize=12)\n",
    "    ax.set_ylabel(\"Normalised count\", fontsize=12)\n",
    "    ax.tick_params(axis='both', which='major', labelsize=10)\n",
    "    ax.grid(True, linestyle='--', alpha=0.7)\n",
    "    ax.legend(fontsize=10)\n",
    "    \n",
    "    if log_scale:\n",
    "        ax.set_yscale(\"log\")\n",
    "    \n",
    "    if save:\n",
    "        plt.savefig(name, bbox_inches=\"tight\", dpi=500)\n",
    "    \n",
    "    return ax"
   ]
  },
  {
   "cell_type": "markdown",
   "id": "d58a3d29-9c29-4cbc-ad0f-ab56c0a23ee7",
   "metadata": {},
   "source": [
    "## # triviality metrics analysis - histograms for sublattice charge density overlap (see where SCs fall)"
   ]
  },
  {
   "cell_type": "markdown",
   "id": "8e839c84-58b0-4d15-917b-33f60c17580d",
   "metadata": {},
   "source": [
    "# Full path number density drop metric"
   ]
  },
  {
   "cell_type": "code",
   "execution_count": 13,
   "id": "0215365e-c4b5-4f34-82bf-7ab5830e355d",
   "metadata": {
    "jupyter": {
     "source_hidden": true
    },
    "tags": []
   },
   "outputs": [
    {
     "name": "stdout",
     "output_type": "stream",
     "text": [
      "29441\n",
      "29441\n"
     ]
    }
   ],
   "source": [
    "drop_scores = pd.read_csv(\"csv_data/partial_connectivity_metric_data/1_MST_corrected_3_4_mats_sublattice_drops.csv\")\n",
    "#drop_scores = pd.read_csv(\"all_MST_drop_values_1.csv\")\n",
    "drop_scores.rename(columns={'mat_id': \"material_id\"}, inplace=True)\n",
    "drop_scores.set_index(\"material_id\", inplace=True)\n",
    "\n",
    "drop_scores_2 = pd.read_csv(\"csv_data/partial_connectivity_metric_data/2_MST_corrected_3_4_mats_sublattice_drops.csv\")\n",
    "#drop_scores_2 = pd.read_csv(\"all_MST_drop_values_2.csv\")\n",
    "drop_scores_2.rename(columns={'mat_id': \"material_id\"}, inplace=True)\n",
    "drop_scores_2.set_index(\"material_id\", inplace=True)\n",
    "\n",
    "drop_scores_3 = pd.read_csv(\"csv_data/partial_connectivity_metric_data/3_MST_corrected_3_4_mats_sublattice_drops.csv\")\n",
    "#drop_scores_2 = pd.read_csv(\"all_MST_drop_values_2.csv\")\n",
    "drop_scores_3.rename(columns={'mat_id': \"material_id\"}, inplace=True)\n",
    "drop_scores_3.set_index(\"material_id\", inplace=True)\n",
    "\n",
    "#comb = drop_scores\n",
    "comb = pd.concat([drop_scores_3, drop_scores_2, drop_scores])\n",
    "# Merge the two dataframes, only keep mats for which we have overlap scores for which right now is not all of them\n",
    "# is about 27k\n",
    "df_with_drops = pd.merge(main_df, comb, left_index=True, right_index=True, how='inner')\n",
    "df_with_drops.head()\n",
    "\n",
    "print(len(df_with_drops.index.to_list()))\n",
    "print(len(np.unique(df_with_drops.index.to_list())))"
   ]
  },
  {
   "cell_type": "markdown",
   "id": "b67fe2b1-33ee-41e3-b95f-3108e13d6830",
   "metadata": {},
   "source": [
    "### clean scores to remove mats with no chrgcar file\n",
    "### calculate average of drop scores over full path"
   ]
  },
  {
   "cell_type": "code",
   "execution_count": 14,
   "id": "0b65ad23-5709-4e4e-b394-8425fc7bb6bf",
   "metadata": {
    "collapsed": true,
    "jupyter": {
     "outputs_hidden": true,
     "source_hidden": true
    },
    "tags": []
   },
   "outputs": [
    {
     "name": "stderr",
     "output_type": "stream",
     "text": [
      "/usr/local/lib/python3.9/dist-packages/numpy/lib/function_base.py:520: RuntimeWarning: Mean of empty slice.\n",
      "  avg = a.mean(axis, **keepdims_kw)\n"
     ]
    },
    {
     "name": "stdout",
     "output_type": "stream",
     "text": [
      "24828\n"
     ]
    },
    {
     "data": {
      "text/html": [
       "<div>\n",
       "<style scoped>\n",
       "    .dataframe tbody tr th:only-of-type {\n",
       "        vertical-align: middle;\n",
       "    }\n",
       "\n",
       "    .dataframe tbody tr th {\n",
       "        vertical-align: top;\n",
       "    }\n",
       "\n",
       "    .dataframe thead th {\n",
       "        text-align: right;\n",
       "    }\n",
       "</style>\n",
       "<table border=\"1\" class=\"dataframe\">\n",
       "  <thead>\n",
       "    <tr style=\"text-align: right;\">\n",
       "      <th></th>\n",
       "      <th>flat</th>\n",
       "      <th>flat_segments</th>\n",
       "      <th>formula</th>\n",
       "      <th>synth_score</th>\n",
       "      <th>Cluster_ID</th>\n",
       "      <th>cluster_size</th>\n",
       "      <th>sublattice_element</th>\n",
       "      <th>dbcv_cluster</th>\n",
       "      <th>probabilities</th>\n",
       "      <th>paper_titles</th>\n",
       "      <th>...</th>\n",
       "      <th>synth_score_2</th>\n",
       "      <th>sub_lattice_structure</th>\n",
       "      <th>matched_to_a_sc</th>\n",
       "      <th>SC_doped_from_original</th>\n",
       "      <th>drop_values</th>\n",
       "      <th>arr_drop_values</th>\n",
       "      <th>average_drop</th>\n",
       "      <th>max_drop</th>\n",
       "      <th>min_drop</th>\n",
       "      <th>w_av_drop</th>\n",
       "    </tr>\n",
       "    <tr>\n",
       "      <th>material_id</th>\n",
       "      <th></th>\n",
       "      <th></th>\n",
       "      <th></th>\n",
       "      <th></th>\n",
       "      <th></th>\n",
       "      <th></th>\n",
       "      <th></th>\n",
       "      <th></th>\n",
       "      <th></th>\n",
       "      <th></th>\n",
       "      <th></th>\n",
       "      <th></th>\n",
       "      <th></th>\n",
       "      <th></th>\n",
       "      <th></th>\n",
       "      <th></th>\n",
       "      <th></th>\n",
       "      <th></th>\n",
       "      <th></th>\n",
       "      <th></th>\n",
       "      <th></th>\n",
       "    </tr>\n",
       "  </thead>\n",
       "  <tbody>\n",
       "    <tr>\n",
       "      <th>mp-7</th>\n",
       "      <td>True</td>\n",
       "      <td>[4]</td>\n",
       "      <td>S</td>\n",
       "      <td>0.013924</td>\n",
       "      <td>-1</td>\n",
       "      <td>24875</td>\n",
       "      <td>S</td>\n",
       "      <td>0.846820</td>\n",
       "      <td>0.000000</td>\n",
       "      <td>[The lattice of rhombohedral sulfur, The cryst...</td>\n",
       "      <td>...</td>\n",
       "      <td>0.999939</td>\n",
       "      <td>{'@module': 'pymatgen.core.structure', '@class...</td>\n",
       "      <td>False</td>\n",
       "      <td>n/a</td>\n",
       "      <td>[0.8903941355808447, 0.9668926793387779, 0.634...</td>\n",
       "      <td>[0.8903941355808447, 0.9668926793387779, 0.634...</td>\n",
       "      <td>0.768370</td>\n",
       "      <td>0.975772</td>\n",
       "      <td>0.424087</td>\n",
       "      <td>0.814353</td>\n",
       "    </tr>\n",
       "    <tr>\n",
       "      <th>mp-25</th>\n",
       "      <td>True</td>\n",
       "      <td>[3]</td>\n",
       "      <td>N2</td>\n",
       "      <td>0.127548</td>\n",
       "      <td>63</td>\n",
       "      <td>282</td>\n",
       "      <td>N</td>\n",
       "      <td>0.212178</td>\n",
       "      <td>0.104165</td>\n",
       "      <td>[Electron Diffraction and the Structure of alp...</td>\n",
       "      <td>...</td>\n",
       "      <td>0.893845</td>\n",
       "      <td>{'@module': 'pymatgen.core.structure', '@class...</td>\n",
       "      <td>False</td>\n",
       "      <td>n/a</td>\n",
       "      <td>[0.9971663974090795, 0.9970829372894733, 0.997...</td>\n",
       "      <td>[0.9971663974090795, 0.9970829372894733, 0.997...</td>\n",
       "      <td>0.792946</td>\n",
       "      <td>0.997311</td>\n",
       "      <td>-0.022574</td>\n",
       "      <td>0.995274</td>\n",
       "    </tr>\n",
       "    <tr>\n",
       "      <th>mp-35</th>\n",
       "      <td>True</td>\n",
       "      <td>[1, 2, 3, 4]</td>\n",
       "      <td>Mn</td>\n",
       "      <td>0.007099</td>\n",
       "      <td>-1</td>\n",
       "      <td>24875</td>\n",
       "      <td>Mn</td>\n",
       "      <td>0.846820</td>\n",
       "      <td>0.000000</td>\n",
       "      <td>[Crystal structure of alpha-manganese, Antifer...</td>\n",
       "      <td>...</td>\n",
       "      <td>0.999977</td>\n",
       "      <td>{'@module': 'pymatgen.core.structure', '@class...</td>\n",
       "      <td>False</td>\n",
       "      <td>n/a</td>\n",
       "      <td>[0.9740465297035564, 0.9740465297035564, 0.974...</td>\n",
       "      <td>[0.9740465297035564, 0.9740465297035564, 0.974...</td>\n",
       "      <td>0.970079</td>\n",
       "      <td>0.979240</td>\n",
       "      <td>0.960612</td>\n",
       "      <td>0.970104</td>\n",
       "    </tr>\n",
       "    <tr>\n",
       "      <th>mp-43</th>\n",
       "      <td>True</td>\n",
       "      <td>[1, 2, 3, 4]</td>\n",
       "      <td>U</td>\n",
       "      <td>0.001247</td>\n",
       "      <td>-1</td>\n",
       "      <td>24875</td>\n",
       "      <td>U</td>\n",
       "      <td>0.846820</td>\n",
       "      <td>0.000000</td>\n",
       "      <td>[The crystal structure of the beta phase of ur...</td>\n",
       "      <td>...</td>\n",
       "      <td>1.000000</td>\n",
       "      <td>{'@module': 'pymatgen.core.structure', '@class...</td>\n",
       "      <td>False</td>\n",
       "      <td>n/a</td>\n",
       "      <td>[0.16299063213454434, 0.2768388467670111, 0.14...</td>\n",
       "      <td>[0.16299063213454434, 0.2768388467670111, 0.14...</td>\n",
       "      <td>0.296888</td>\n",
       "      <td>0.880956</td>\n",
       "      <td>-0.010298</td>\n",
       "      <td>0.491297</td>\n",
       "    </tr>\n",
       "    <tr>\n",
       "      <th>mp-118</th>\n",
       "      <td>True</td>\n",
       "      <td>[3, 4]</td>\n",
       "      <td>P</td>\n",
       "      <td>0.334531</td>\n",
       "      <td>-1</td>\n",
       "      <td>24875</td>\n",
       "      <td>P</td>\n",
       "      <td>0.846820</td>\n",
       "      <td>0.000000</td>\n",
       "      <td>[Crystal structure of white phosphorus (beta P...</td>\n",
       "      <td>...</td>\n",
       "      <td>0.999796</td>\n",
       "      <td>{'@module': 'pymatgen.core.structure', '@class...</td>\n",
       "      <td>False</td>\n",
       "      <td>n/a</td>\n",
       "      <td>[-0.13404860126868595, -0.02380221470346633, 0...</td>\n",
       "      <td>[-0.13404860126868595, -0.02380221470346633, 0...</td>\n",
       "      <td>0.342277</td>\n",
       "      <td>0.964067</td>\n",
       "      <td>-0.156711</td>\n",
       "      <td>1.043107</td>\n",
       "    </tr>\n",
       "  </tbody>\n",
       "</table>\n",
       "<p>5 rows × 22 columns</p>\n",
       "</div>"
      ],
      "text/plain": [
       "             flat flat_segments formula  synth_score  Cluster_ID  \\\n",
       "material_id                                                        \n",
       "mp-7         True           [4]       S     0.013924          -1   \n",
       "mp-25        True           [3]      N2     0.127548          63   \n",
       "mp-35        True  [1, 2, 3, 4]      Mn     0.007099          -1   \n",
       "mp-43        True  [1, 2, 3, 4]       U     0.001247          -1   \n",
       "mp-118       True        [3, 4]       P     0.334531          -1   \n",
       "\n",
       "             cluster_size sublattice_element  dbcv_cluster  probabilities  \\\n",
       "material_id                                                                 \n",
       "mp-7                24875                  S      0.846820       0.000000   \n",
       "mp-25                 282                  N      0.212178       0.104165   \n",
       "mp-35               24875                 Mn      0.846820       0.000000   \n",
       "mp-43               24875                  U      0.846820       0.000000   \n",
       "mp-118              24875                  P      0.846820       0.000000   \n",
       "\n",
       "                                                  paper_titles  ...  \\\n",
       "material_id                                                     ...   \n",
       "mp-7         [The lattice of rhombohedral sulfur, The cryst...  ...   \n",
       "mp-25        [Electron Diffraction and the Structure of alp...  ...   \n",
       "mp-35        [Crystal structure of alpha-manganese, Antifer...  ...   \n",
       "mp-43        [The crystal structure of the beta phase of ur...  ...   \n",
       "mp-118       [Crystal structure of white phosphorus (beta P...  ...   \n",
       "\n",
       "             synth_score_2                              sub_lattice_structure  \\\n",
       "material_id                                                                     \n",
       "mp-7              0.999939  {'@module': 'pymatgen.core.structure', '@class...   \n",
       "mp-25             0.893845  {'@module': 'pymatgen.core.structure', '@class...   \n",
       "mp-35             0.999977  {'@module': 'pymatgen.core.structure', '@class...   \n",
       "mp-43             1.000000  {'@module': 'pymatgen.core.structure', '@class...   \n",
       "mp-118            0.999796  {'@module': 'pymatgen.core.structure', '@class...   \n",
       "\n",
       "             matched_to_a_sc SC_doped_from_original  \\\n",
       "material_id                                           \n",
       "mp-7                   False                    n/a   \n",
       "mp-25                  False                    n/a   \n",
       "mp-35                  False                    n/a   \n",
       "mp-43                  False                    n/a   \n",
       "mp-118                 False                    n/a   \n",
       "\n",
       "                                                   drop_values  \\\n",
       "material_id                                                      \n",
       "mp-7         [0.8903941355808447, 0.9668926793387779, 0.634...   \n",
       "mp-25        [0.9971663974090795, 0.9970829372894733, 0.997...   \n",
       "mp-35        [0.9740465297035564, 0.9740465297035564, 0.974...   \n",
       "mp-43        [0.16299063213454434, 0.2768388467670111, 0.14...   \n",
       "mp-118       [-0.13404860126868595, -0.02380221470346633, 0...   \n",
       "\n",
       "                                               arr_drop_values average_drop  \\\n",
       "material_id                                                                   \n",
       "mp-7         [0.8903941355808447, 0.9668926793387779, 0.634...     0.768370   \n",
       "mp-25        [0.9971663974090795, 0.9970829372894733, 0.997...     0.792946   \n",
       "mp-35        [0.9740465297035564, 0.9740465297035564, 0.974...     0.970079   \n",
       "mp-43        [0.16299063213454434, 0.2768388467670111, 0.14...     0.296888   \n",
       "mp-118       [-0.13404860126868595, -0.02380221470346633, 0...     0.342277   \n",
       "\n",
       "             max_drop  min_drop  w_av_drop  \n",
       "material_id                                 \n",
       "mp-7         0.975772  0.424087   0.814353  \n",
       "mp-25        0.997311 -0.022574   0.995274  \n",
       "mp-35        0.979240  0.960612   0.970104  \n",
       "mp-43        0.880956 -0.010298   0.491297  \n",
       "mp-118       0.964067 -0.156711   1.043107  \n",
       "\n",
       "[5 rows x 22 columns]"
      ]
     },
     "execution_count": 14,
     "metadata": {},
     "output_type": "execute_result"
    }
   ],
   "source": [
    "def av(arr):\n",
    "    return np.average(arr)\n",
    "def w_av(arr):\n",
    "    return np.average(arr, weights=[arr[i] for i in range(len(arr))])\n",
    "def max_(arr):\n",
    "    return np.max(arr)\n",
    "def min_(arr):\n",
    "    return np.min(arr)\n",
    "def list_conv(string):\n",
    "    return np.fromstring(string[1:-1], dtype=float, sep=',')\n",
    "def av_cutoff_filter(arr):\n",
    "    cutoff = 0.2\n",
    "    return np.average(arr[arr>cutoff])\n",
    "def remove_lowest(arr):\n",
    "    cutoff = 4 # as a %\n",
    "    return np.average(np.sort(arr)[-int(np.round(len(arr)/cutoff)):])\n",
    "\n",
    "df_with_drops[\"arr_drop_values\"] = df_with_drops[\"drop_values\"].apply(list_conv)\n",
    "\n",
    "df_with_drops[\"average_drop\"] = df_with_drops[\"arr_drop_values\"].apply(av)\n",
    "df_with_drops = df_with_drops[df_with_drops[\"average_drop\"]>=0]\n",
    "\n",
    "df_with_drops[\"max_drop\"] = df_with_drops[\"arr_drop_values\"].apply(max_)\n",
    "df_with_drops[\"min_drop\"] = df_with_drops[\"arr_drop_values\"].apply(min_)\n",
    "df_with_drops[\"w_av_drop\"] = df_with_drops[\"arr_drop_values\"].apply(w_av)\n",
    "\n",
    "\n",
    "# remove mats with no score because no charge density data\n",
    "df_with_drops = df_with_drops[df_with_drops[\"average_drop\"]>=0]\n",
    "print(len(np.unique(df_with_drops.index.to_list())))\n",
    "df_with_drops.head()\n",
    "#df_with_drops[\"cutoff_av\"] = df_with_drops[\"arr_drop_values\"].apply(av_cutoff_filter)\n",
    "#df_with_drops[\"filter_av\"] = df_with_drops[\"arr_drop_values\"].apply(remove_lowest)\n",
    "\n",
    "#df_with_drops = df_with_drops[df_with_drops[\"arr_drop_values\"][:,0]>0]"
   ]
  },
  {
   "cell_type": "code",
   "execution_count": 15,
   "id": "a2e68bac-ce6e-4a26-b72c-e447a9d50ec0",
   "metadata": {
    "tags": []
   },
   "outputs": [],
   "source": [
    "# if need to remove materials with their flat-bands in certain places\n",
    "def below_fermi(arr):\n",
    "    for num in arr:\n",
    "        if num == 1 or num == 2:\n",
    "            return True\n",
    "    return False"
   ]
  },
  {
   "cell_type": "code",
   "execution_count": 16,
   "id": "144f0534-cda6-4332-b0d4-99448ba765b1",
   "metadata": {
    "tags": []
   },
   "outputs": [
    {
     "data": {
      "text/plain": [
       "True"
      ]
     },
     "execution_count": 16,
     "metadata": {},
     "output_type": "execute_result"
    }
   ],
   "source": [
    "below_fermi([1,3,4])"
   ]
  },
  {
   "cell_type": "code",
   "execution_count": 17,
   "id": "fe500ccd-78f6-4aa0-9702-95bac4a9441d",
   "metadata": {
    "tags": []
   },
   "outputs": [
    {
     "name": "stdout",
     "output_type": "stream",
     "text": [
      "72\n"
     ]
    }
   ],
   "source": [
    "print(len(df_with_drops[df_with_drops[\"matched_to_a_sc\"]]))"
   ]
  },
  {
   "cell_type": "code",
   "execution_count": 81,
   "id": "08ba5c0d-ecf5-4db8-a481-670f40d0d257",
   "metadata": {},
   "outputs": [
    {
     "data": {
      "text/plain": [
       "flat                                                                    True\n",
       "flat_segments                                                            [4]\n",
       "formula                                                               Nd2Co3\n",
       "synth_score                                                         0.130752\n",
       "Cluster_ID                                                                -1\n",
       "cluster_size                                                           24875\n",
       "sublattice_element                                                        Co\n",
       "dbcv_cluster                                                         0.84682\n",
       "probabilities                                                            0.0\n",
       "paper_titles               [Ueberpruefung der Zustandsschaubilder der bin...\n",
       "experimentally_observed                                                 True\n",
       "band_gap                                                                 0.0\n",
       "synth_score_2                                                       0.999998\n",
       "sub_lattice_structure      {'@module': 'pymatgen.core.structure', '@class...\n",
       "matched_to_a_sc                                                        False\n",
       "SC_doped_from_original                                                   n/a\n",
       "drop_values                [-0.1623416517536694, -0.027135526745514473, -...\n",
       "arr_drop_values            [-0.1623416517536694, -0.027135526745514473, -...\n",
       "average_drop                                                        0.253508\n",
       "max_drop                                                            0.960075\n",
       "min_drop                                                           -0.162342\n",
       "w_av_drop                                                           0.848647\n",
       "Name: mp-1084826, dtype: object"
      ]
     },
     "execution_count": 81,
     "metadata": {},
     "output_type": "execute_result"
    }
   ],
   "source": [
    "df_with_drops.loc[\"mp-1084826\"]"
   ]
  },
  {
   "cell_type": "code",
   "execution_count": 80,
   "id": "f9765d67-85fa-40ef-8311-dc958a286af2",
   "metadata": {
    "tags": []
   },
   "outputs": [
    {
     "name": "stdout",
     "output_type": "stream",
     "text": [
      "Reduced Chi-squared (cubic): 0.00\n",
      "Reduced Chi-squared (power): 0.04\n",
      "Intersection point, x: (0.670)\n"
     ]
    },
    {
     "data": {
      "text/plain": [
       "Text(0.5, 15.0, 'Largest Fractional Drop of MST')"
      ]
     },
     "execution_count": 80,
     "metadata": {},
     "output_type": "execute_result"
    },
    {
     "data": {
      "image/png": "[encoded data removed]",
      "text/plain": [
       "<Figure size 432x288 with 1 Axes>"
      ]
     },
     "metadata": {
      "needs_background": "light"
     },
     "output_type": "display_data"
    }
   ],
   "source": [
    "df_with_cuts = df_with_drops.copy()\n",
    "#df_with_cuts = df_with_cuts[df_with_cuts[\"band_gap\"]<=1]\n",
    "# remove materials with no flat band below E_fermi\n",
    "#df_with_cuts[\"flat_band_below_Ef\"] = df_with_cuts[\"flat_segments\"].apply(below_fermi)\n",
    "#df_with_cuts = df_with_cuts[df_with_cuts[\"flat_band_below_Ef\"]]\n",
    "\n",
    "#get_selection_cut_histograms_and_power(\"av_drop\", df_below_Ef)\n",
    "#f_with_drops[\"half_av\"] = (df_with_drops[\"av_drop\"]+df_with_drops[\"min_drop\"])/2\n",
    "ax= get_selection_cut_histograms_and_power(\"average_drop\", df_with_cuts, save=True, name=\"figs/SC_max_hist.png\", \n",
    "                                       N_bins=80, range_=(0.0,1), log_scale=True, apply_density=True)\n",
    "ax.set_xlabel(\"Largest Fractional Drop of MST\")"
   ]
  },
  {
   "cell_type": "code",
   "execution_count": 19,
   "id": "c743c2fe-9a9e-43bc-8171-86a62e4f2b29",
   "metadata": {},
   "outputs": [
    {
     "data": {
      "image/png": "[encoded data removed]",
      "text/plain": [
       "<Figure size 432x288 with 2 Axes>"
      ]
     },
     "metadata": {
      "needs_background": "light"
     },
     "output_type": "display_data"
    }
   ],
   "source": [
    "fig, ax = plt.subplots()\n",
    "range = (0.55, 1)\n",
    "average_drop = df_with_cuts.average_drop\n",
    "hist_all, bins_all, _ = ax.hist(average_drop.to_list(), bins=28, range=range, density=True, alpha=0.7, edgecolor='black', linewidth=1.2, label=\"All Flat-Band Materials\", color='orange')\n",
    "hist_sc, bins_sc, _ = ax.hist(average_drop[df_with_cuts.matched_to_a_sc].to_list(), bins=28, range=range, density=True, alpha=0.7, edgecolor='black', linewidth=1.2, label=\"All Flat-Band Materials\", color='skyblue')\n",
    "\n",
    "ax2 = ax.twinx()  # instantiate a second axes that shares the same x-axis\n",
    "\n",
    "cut_values = np.linspace(*range, 100)\n",
    "\n",
    "powers = np.zeros_like(cut_values)\n",
    "\n",
    "for i, cut_value in enumerate(cut_values):\n",
    "    cut_mask = average_drop<cut_value\n",
    "    signal_to_noise_with_cut = df_with_cuts[cut_mask].matched_to_a_sc.sum() / cut_mask.sum()\n",
    "    signal_to_noise_without_cut = df_with_cuts.matched_to_a_sc.sum() / len(df_with_cuts)\n",
    "\n",
    "    powers[i] = signal_to_noise_with_cut / signal_to_noise_without_cut\n",
    "color = \"red\"\n",
    "\n",
    "ax2.plot(cut_values, powers, label=\"Selection Cut Power\", color=color)\n",
    "# ax2.set_xlim(*range_)\n",
    "ax2.set_ylabel('Cut Power', color=color)\n",
    "ax2.tick_params(axis='y', labelcolor=color)"
   ]
  },
  {
   "cell_type": "code",
   "execution_count": null,
   "id": "bcffc34b-c698-49f4-bec4-fd252e129794",
   "metadata": {},
   "outputs": [],
   "source": []
  },
  {
   "cell_type": "code",
   "execution_count": 20,
   "id": "bac82bf8-eff8-48ae-a628-9377c213e295",
   "metadata": {},
   "outputs": [
    {
     "data": {
      "text/plain": [
       "Index(['flat', 'flat_segments', 'formula', 'synth_score', 'Cluster_ID',\n",
       "       'cluster_size', 'sublattice_element', 'dbcv_cluster', 'probabilities',\n",
       "       'paper_titles', 'experimentally_observed', 'band_gap', 'synth_score_2',\n",
       "       'sub_lattice_structure', 'matched_to_a_sc', 'SC_doped_from_original',\n",
       "       'drop_values', 'arr_drop_values', 'average_drop', 'max_drop',\n",
       "       'min_drop', 'w_av_drop'],\n",
       "      dtype='object')"
      ]
     },
     "execution_count": 20,
     "metadata": {},
     "output_type": "execute_result"
    }
   ],
   "source": [
    "df_with_cuts.columns"
   ]
  },
  {
   "cell_type": "code",
   "execution_count": null,
   "id": "3345eed0-4235-4c44-b9a4-281f1b87d8f1",
   "metadata": {},
   "outputs": [],
   "source": []
  },
  {
   "cell_type": "code",
   "execution_count": 21,
   "id": "616c8554-0cba-40c3-a7cb-1bfc0d704433",
   "metadata": {},
   "outputs": [
    {
     "data": {
      "text/plain": [
       "<bound method _AxesBase.set_ylabel of <AxesSubplot:>>"
      ]
     },
     "execution_count": 21,
     "metadata": {},
     "output_type": "execute_result"
    }
   ],
   "source": [
    "ax.set_ylabel"
   ]
  },
  {
   "cell_type": "code",
   "execution_count": 22,
   "id": "676716ff-6328-48d9-a5d5-cc95cfd627a8",
   "metadata": {
    "tags": []
   },
   "outputs": [
    {
     "data": {
      "text/plain": [
       "flat                                                                    True\n",
       "flat_segments                                                         [3, 4]\n",
       "formula                                                              P2Pd3S8\n",
       "synth_score                                                         0.333203\n",
       "Cluster_ID                                                                -1\n",
       "cluster_size                                                           24875\n",
       "sublattice_element                                                        Pd\n",
       "dbcv_cluster                                                         0.84682\n",
       "probabilities                                                            0.0\n",
       "paper_titles               [Verfeinerung der Kristallstruktur von Tripall...\n",
       "experimentally_observed                                                 True\n",
       "band_gap                                                              1.5779\n",
       "synth_score_2                                                       0.978983\n",
       "sub_lattice_structure      {'@module': 'pymatgen.core.structure', '@class...\n",
       "matched_to_a_sc                                                        False\n",
       "SC_doped_from_original                                                   n/a\n",
       "drop_values                [0.9773143538338308, 0.9773143539738691, 0.975...\n",
       "arr_drop_values            [0.9773143538338308, 0.9773143539738691, 0.975...\n",
       "average_drop                                                        0.976822\n",
       "max_drop                                                            0.978476\n",
       "min_drop                                                            0.974592\n",
       "w_av_drop                                                           0.976823\n",
       "Name: mp-3006, dtype: object"
      ]
     },
     "execution_count": 22,
     "metadata": {},
     "output_type": "execute_result"
    }
   ],
   "source": [
    "#df_with_cuts = df_with_cuts[df_with_cuts[\"max_drop\"]<0.7]\n",
    "#df_with_cuts.sort_values(by=df_with_cuts.index, ascending=False)\n",
    "df_with_drops.loc[\"mp-3006\"]"
   ]
  },
  {
   "cell_type": "code",
   "execution_count": 69,
   "id": "6f730110-ac6b-4c1f-9a41-fbc1aa3976f3",
   "metadata": {},
   "outputs": [
    {
     "name": "stdout",
     "output_type": "stream",
     "text": [
      "Number of non-triv flat mats: 10630\n",
      "Number of trivial flat-band + non-flat-band mats: 59821\n",
      "number of 'non-trivial' flat-band SCs:  69\n",
      "number of 'trivial' or non-flat-band SCs:  1192\n",
      "% of SC non-triv flat mats: 0.6491063029162747\n",
      "% of SC 'non-flat' or insulating mats: 1.9926112903495428\n"
     ]
    }
   ],
   "source": [
    "overlap_cutoff = 1.0\n",
    "\n",
    "temp_df = df_with_drops[df_with_drops[\"band_gap\"]<=1]\n",
    "#temp_df = df_with_cuts\n",
    "\n",
    "high_overlap_df = temp_df[temp_df[\"max_drop\"]<=overlap_cutoff]\n",
    "# Convert arrays to sets\n",
    "# undoped SCs\n",
    "#SCs = set(np.unique(df_3DSC[df_3DSC[\"SC_doped_from_original\"]==False].index.to_numpy()))\n",
    "SCs = set(np.unique(df_3DSC.index.to_numpy()))\n",
    "# band gap <=1eV flat-mats\n",
    "non_triv_flat_mats = set(np.unique(high_overlap_df.index.to_numpy()))\n",
    "\n",
    "# full mat id list\n",
    "full_ids = set(full_ids_list)\n",
    "\n",
    "# insulating + non-flat mat id list\n",
    "triv_plus_non_flat = full_ids.difference(non_triv_flat_mats)\n",
    "\n",
    "# Find the common elements using intersection\n",
    "num_nontriv_flat_SC = len(SCs.intersection(non_triv_flat_mats))\n",
    "num_trivial_or_non_flat_SC = len(SCs.intersection(triv_plus_non_flat))\n",
    "flat_check = full_ids.intersection(flat_mats)\n",
    "\n",
    "# print outputs\n",
    "print(\"Number of non-triv flat mats:\", len(non_triv_flat_mats))\n",
    "print(\"Number of trivial flat-band + non-flat-band mats:\", len(triv_plus_non_flat))\n",
    "\n",
    "print(\"number of 'non-trivial' flat-band SCs: \", num_nontriv_flat_SC)\n",
    "print(\"number of 'trivial' or non-flat-band SCs: \", num_trivial_or_non_flat_SC)\n",
    "#print(\"doped SC cases been removed: {0}\".format())\n",
    "print(\"% of SC non-triv flat mats:\", (num_nontriv_flat_SC / len(non_triv_flat_mats))*100)\n",
    "print(\"% of SC 'non-flat' or insulating mats:\", (num_trivial_or_non_flat_SC / len(triv_plus_non_flat))*100)\n"
   ]
  },
  {
   "cell_type": "code",
   "execution_count": null,
   "id": "647f6640-3c20-42ec-af49-05e844718049",
   "metadata": {},
   "outputs": [],
   "source": []
  },
  {
   "cell_type": "code",
   "execution_count": 24,
   "id": "db1cc20d-6c22-4c36-acc5-c3e8f37ae62c",
   "metadata": {
    "tags": []
   },
   "outputs": [],
   "source": [
    "df_with_drops.to_csv(\"df_with_final_MST_drop_scores.csv\")"
   ]
  },
  {
   "cell_type": "markdown",
   "id": "e073a6b5-b02c-4944-8fb8-161174848979",
   "metadata": {},
   "source": [
    "## Analyse atomic distances in flat-band sublattice (as determined by Anupam)"
   ]
  },
  {
   "cell_type": "code",
   "execution_count": 25,
   "id": "73c0320c-2a71-4662-8922-b2083b717325",
   "metadata": {
    "tags": []
   },
   "outputs": [
    {
     "data": {
      "text/plain": [
       "\"{'@module': 'pymatgen.core.structure', '@class': 'Structure', 'charge': 0, 'lattice': {'matrix': [[5.83749204, 0.06254491, -2.71890814], [-4.28350897, 3.9662647, -2.71900595], [0.02407769, 0.0625842, 6.43958097]], 'pbc': (True, True, True), 'a': 6.439929087854037, 'b': 6.439929978087647, 'c': 6.43993009173481, 'alpha': 114.75185786877043, 'beta': 114.75184782858017, 'gamma': 114.75183455160276, 'volume': 152.79889506945906}, 'properties': {}, 'sites': [{'species': [{'element': 'S', 'occu': 1}], 'abc': [0.24492283, 0.14077002, 0.90933939], 'xyz': [0.848640219099403, 0.6305601157552272, 4.807087432994953], 'properties': {'magmom': -0.0}, 'label': 'S'}, {'species': [{'element': 'S', 'occu': 1}], 'abc': [0.90933939, 0.24492283, 0.14077002], 'xyz': [4.262521728423524, 1.0371133042457898, -2.231856959615954], 'properties': {'magmom': -0.0}, 'label': 'S'}, {'species': [{'element': 'S', 'occu': 1}], 'abc': [0.14077002, 0.90933939, 0.24492283], 'xyz': [-3.067522386644024, 3.6308134704854167, -1.2780395700387885], 'properties': {'magmom': -0.0}, 'label': 'S'}, {'species': [{'element': 'S', 'occu': 1}], 'abc': [0.75507717, 0.85922998, 0.09066061], 'xyz': [0.7294205409005976, 3.4608336942447724, -3.805420552994953], 'properties': {'magmom': -0.0}, 'label': 'S'}, {'species': [{'element': 'S', 'occu': 1}], 'abc': [0.09066061, 0.75507717, 0.85922998], 'xyz': [-2.684460968423524, 3.05428050575421, 3.2335238396159536], 'properties': {'magmom': -0.0}, 'label': 'S'}, {'species': [{'element': 'S', 'occu': 1}], 'abc': [0.85922998, 0.09066061, 0.75507717], 'xyz': [4.645583146644024, 0.4605803395145828, 2.279706450038788], 'properties': {'magmom': -0.0}, 'label': 'S'}]}\""
      ]
     },
     "execution_count": 25,
     "metadata": {},
     "output_type": "execute_result"
    }
   ],
   "source": [
    "main_df[\"sub_lattice_structure\"].to_list()[0]"
   ]
  },
  {
   "cell_type": "code",
   "execution_count": 26,
   "id": "aee41045-04b6-4954-aad0-9c38a73aad83",
   "metadata": {},
   "outputs": [],
   "source": [
    "# ADD LARGEST UNIT VECT TO DF - this shows a general way to add any structure info as a new column\n",
    "def return_max_sublattice_vector(structure_dict):\n",
    "    return max([structure_dict['lattice'][key] for key in ['a', 'b', 'c']])\n",
    "def convert_string_to_dict(string_dict):\n",
    "    return eval(string_dict)\n",
    "\n",
    "def return_density(structure_dict):\n",
    "    vectors = structure_dict['lattice']['matrix']\n",
    "    a,b,c = vectors[0],vectors[1],vectors[2]\n",
    "    volume = abs(np.dot(a,np.cross(b,c)))\n",
    "    \n",
    "    num_sites = len(structure_dict['sites'])\n",
    "    \n",
    "    return num_sites / volume "
   ]
  },
  {
   "cell_type": "code",
   "execution_count": 27,
   "id": "fc4527e9-d7ce-4f48-a50d-3277694332f6",
   "metadata": {
    "tags": []
   },
   "outputs": [],
   "source": [
    "main_df[\"sub_lattice_structure\"] = main_df[\"sub_lattice_structure\"].apply(convert_string_to_dict)\n",
    "main_df[\"max_sub_unit_vector\"] = main_df[\"sub_lattice_structure\"].apply(return_max_sublattice_vector)"
   ]
  },
  {
   "cell_type": "code",
   "execution_count": 28,
   "id": "4370df26-f362-4a5d-902f-64e0bb9c17b8",
   "metadata": {},
   "outputs": [],
   "source": [
    "main_df[\"unit_cell_num_density\"] = main_df[\"sub_lattice_structure\"].apply(return_density)"
   ]
  },
  {
   "cell_type": "code",
   "execution_count": 29,
   "id": "e53ebe97-6886-4729-b412-9f509e02ad9e",
   "metadata": {},
   "outputs": [
    {
     "ename": "TypeError",
     "evalue": "get_selection_cut_histograms_and_power() missing 3 required positional arguments: 'df_var', 'save', and 'name'",
     "output_type": "error",
     "traceback": [
      "\u001b[0;31m---------------------------------------------------------------------------\u001b[0m",
      "\u001b[0;31mTypeError\u001b[0m                                 Traceback (most recent call last)",
      "Input \u001b[0;32mIn [29]\u001b[0m, in \u001b[0;36m<cell line: 1>\u001b[0;34m()\u001b[0m\n\u001b[0;32m----> 1\u001b[0m \u001b[43mget_selection_cut_histograms_and_power\u001b[49m\u001b[43m(\u001b[49m\u001b[38;5;124;43m\"\u001b[39;49m\u001b[38;5;124;43munit_cell_num_density\u001b[39;49m\u001b[38;5;124;43m\"\u001b[39;49m\u001b[43m)\u001b[49m\n",
      "\u001b[0;31mTypeError\u001b[0m: get_selection_cut_histograms_and_power() missing 3 required positional arguments: 'df_var', 'save', and 'name'"
     ]
    }
   ],
   "source": [
    "get_selection_cut_histograms_and_power(\"unit_cell_num_density\")\n",
    "#plt.xlim([0,30])\n",
    "#plt.ylim([0,0.5])"
   ]
  },
  {
   "cell_type": "markdown",
   "id": "cc840f48-2547-49dd-9fee-833570385402",
   "metadata": {},
   "source": [
    "## Location of Flat Bands"
   ]
  },
  {
   "cell_type": "code",
   "execution_count": null,
   "id": "ff341d4f-88cc-43e0-a872-1699a8cf0d03",
   "metadata": {},
   "outputs": [],
   "source": [
    "def flat_below_fermi(flat_segments_list):\n",
    "    return  (3 not in flat_segments_list) and (4 not in flat_segments_list)"
   ]
  },
  {
   "cell_type": "code",
   "execution_count": null,
   "id": "ffbbcd4b-b965-4242-887e-f2e36eb8a45b",
   "metadata": {},
   "outputs": [],
   "source": [
    "flat_below_fermi_mask = main_df.flat_segments.apply(flat_below_fermi)"
   ]
  },
  {
   "cell_type": "code",
   "execution_count": null,
   "id": "ceaa104a-1633-41b8-bdce-2ffd4ad32276",
   "metadata": {},
   "outputs": [],
   "source": [
    "# get number of flat-below-fermi materials linked to a SC\n",
    "num_below = flat_below_fermi_mask.sum()\n",
    "below_sc_fraction = main_df[flat_below_fermi_mask].matched_to_a_sc.sum()/num_below\n",
    "print(\"total # flat band materials:\", len(main_df))\n",
    "print(\"superconducting fraction (including doped and non-doped):\", main_df.matched_to_a_sc.sum()/len(main_df))\n",
    "print()\n",
    "\n",
    "num_below = flat_below_fermi_mask.sum()\n",
    "below_sc_fraction = main_df[flat_below_fermi_mask].matched_to_a_sc.sum()/num_below\n",
    "print(\"# flat band materials which only have flat bands below the fermi level: \", num_below)\n",
    "print(\"superconducting fraction:\", below_sc_fraction)\n",
    "print()\n",
    "\n",
    "num_above = len(flat_below_fermi_mask)-num_below\n",
    "above_sc_fraction = main_df[~flat_below_fermi_mask].matched_to_a_sc.sum()/num_above\n",
    "print(\"# flat band materials which DON'T only have flat bands below the fermi level: \", num_above)\n",
    "print(\"superconducting fraction:\", above_sc_fraction)\n",
    "print()\n",
    "print(\"Ratio of fractions:\", below_sc_fraction/above_sc_fraction)"
   ]
  },
  {
   "cell_type": "markdown",
   "id": "543f16f7-4789-40c2-92b7-9b3742fb6399",
   "metadata": {},
   "source": [
    "# SC overlap with structure clusters"
   ]
  },
  {
   "cell_type": "code",
   "execution_count": null,
   "id": "b7696e41-ce50-4910-ae0f-bd0c72e59002",
   "metadata": {
    "tags": []
   },
   "outputs": [],
   "source": [
    "num_sc_in_cluster = main_df[\"matched_to_a_sc\"].groupby(main_df[\"Cluster_ID\"]).sum()"
   ]
  },
  {
   "cell_type": "code",
   "execution_count": null,
   "id": "34f23f90-0519-4106-b396-1fc37552406c",
   "metadata": {},
   "outputs": [],
   "source": [
    "frac = num_sc_in_cluster / main_df[\"matched_to_a_sc\"].groupby(main_df[\"Cluster_ID\"]).count()\n",
    "frac.sort_values(ascending=False)"
   ]
  },
  {
   "cell_type": "code",
   "execution_count": null,
   "id": "5c95d1b0-83cd-4b25-b71c-286611adc9c6",
   "metadata": {
    "tags": []
   },
   "outputs": [],
   "source": [
    "main_df[\"num_sc_in_cluster\"] = main_df[\"Cluster_ID\"].map(num_sc_in_cluster)\n",
    "main_df[\"fraction_sc_in_cluster\"] = main_df[\"num_sc_in_cluster\"]/main_df[\"cluster_size\"]"
   ]
  },
  {
   "cell_type": "code",
   "execution_count": null,
   "id": "e089c6ce-2554-4884-80d8-163abd254971",
   "metadata": {
    "tags": []
   },
   "outputs": [],
   "source": [
    "#main_df[\"fraction_sc_in_cluster\"]\n",
    "df_sorted = main_df.sort_values(by='fraction_sc_in_cluster', ascending=False)\n",
    "#df_sorted[df_sorted[\"experimentally_observed\"]==False]\n",
    "# Found a cluster with 1/3 matched superconductors ! CLUSTER ID: 90\n",
    "# 114, \n",
    "#fraction[fraction==1/3]\n",
    "main_df[main_df[\"Cluster_ID\"]==131].head()\n",
    "#df_sorted"
   ]
  },
  {
   "cell_type": "code",
   "execution_count": null,
   "id": "eabdd44e-4284-42e5-a406-aa0b111b0a23",
   "metadata": {},
   "outputs": [],
   "source": []
  }
 ],
 "metadata": {
  "kernelspec": {
   "display_name": "Python 3 (ipykernel)",
   "language": "python",
   "name": "python3"
  },
  "language_info": {
   "codemirror_mode": {
    "name": "ipython",
    "version": 3
   },
   "file_extension": ".py",
   "mimetype": "text/x-python",
   "name": "python",
   "nbconvert_exporter": "python",
   "pygments_lexer": "ipython3",
   "version": "3.9.13"
  }
 },
 "nbformat": 4,
 "nbformat_minor": 5
}
